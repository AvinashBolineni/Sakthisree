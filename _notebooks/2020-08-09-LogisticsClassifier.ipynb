{
 "cells": [
  {
   "cell_type": "markdown",
   "metadata": {},
   "source": [
    "# Distinguish Your Own Digits (DYOD)\n",
    "\n",
    "> How do you create your own classifer neural network from scratch? \n",
    "\n",
    "- author: Sakthisree"
   ]
  },
  {
   "cell_type": "markdown",
   "metadata": {},
   "source": [
    "Hola!\n",
    "\n",
    "As part of the Univ.ai KTF-1 course, I created this solution for one of the project questions. \n",
    "\n",
    "### Write a classifier that distinguishes the number 8 & number 3.\n",
    "\n",
    "Gee. This might seem like a really simple question as first. \n",
    "\n",
    ">\"Well, let's use scikit learn and all the other libraries we have and create a classifier in 3 lines.\"\n",
    "\n",
    "But no. Let's use the Kudzu library where all the implementation for running a nerual network is written from scratch. \n",
    "\n",
    "Credits to Rahul (& of course, Joe Grus) for wonderfully showing how simple a neural network can be coded. \n",
    "\n",
    "Throughout this project, I make use of the Kudzu libray to run the models. \n",
    "\n",
    "Towards the end, you can also see a visualization of how the computer \"splits\" 3 & 8. \n",
    "\n",
    "Some of the things I have altered in the Kudzu library:\n",
    "\n",
    "1. Added extra functions in the Callbacks call\n",
    "2. Added tqdm for visualizing progress\n",
    "3. Added softmax activation and softmax prime function. "
   ]
  },
  {
   "cell_type": "code",
   "execution_count": 1,
   "metadata": {},
   "outputs": [],
   "source": [
    "%load_ext autoreload\n",
    "%autoreload 2"
   ]
  },
  {
   "cell_type": "code",
   "execution_count": 2,
   "metadata": {},
   "outputs": [],
   "source": [
    "%matplotlib inline\n",
    "import numpy as np\n",
    "import matplotlib.pyplot as plt\n",
    "import pandas as pd"
   ]
  },
  {
   "cell_type": "code",
   "execution_count": 3,
   "metadata": {},
   "outputs": [
    {
     "name": "stdout",
     "output_type": "stream",
     "text": [
      "Requirement already satisfied: mnist in c:\\users\\sakth\\anaconda3\\lib\\site-packages (0.2.2)\n",
      "Requirement already satisfied: numpy in c:\\users\\sakth\\anaconda3\\lib\\site-packages (from mnist) (1.16.4)\n"
     ]
    }
   ],
   "source": [
    "!pip install mnist"
   ]
  },
  {
   "cell_type": "markdown",
   "metadata": {},
   "source": [
    "## Preparing the Data\n",
    "\n",
    "> \"What is MNIST anyway?\"\n",
    "\n",
    "The MNIST database (Modified National Institute of Standards and Technology database) is a large database of handwritten digits that is commonly used for training various image processing systems.\n",
    "\n",
    "It was created by \"re-mixing\" the samples from NIST's original datasets.\n",
    "\n",
    "The creators felt that since NIST's training dataset was taken from American Census Bureau employees, while the testing dataset was taken from American high school students, it was not well-suited for machine learning experiments.\n",
    "\n",
    "Furthermore, the black and white images from NIST were normalized to fit into a 28x28 pixel bounding box and anti-aliased, which introduced grayscale levels.\n",
    "\n",
    "The MNIST database contains 60,000 training images and 10,000 testing images.\n",
    "\n",
    "Half of the training set and half of the test set were taken from NIST's training dataset, while the other half of the training set and the other half of the test set were taken from NIST's testing dataset\n",
    "\n",
    "Source: Wikipedia\n"
   ]
  },
  {
   "cell_type": "code",
   "execution_count": 4,
   "metadata": {},
   "outputs": [],
   "source": [
    "import mnist"
   ]
  },
  {
   "cell_type": "code",
   "execution_count": 5,
   "metadata": {},
   "outputs": [],
   "source": [
    "#Loading the train images and labels from mnist\n",
    "train_images = mnist.train_images()\n",
    "train_labels = mnist.train_labels()"
   ]
  },
  {
   "cell_type": "code",
   "execution_count": 6,
   "metadata": {},
   "outputs": [
    {
     "data": {
      "text/plain": [
       "((60000, 28, 28), (60000,))"
      ]
     },
     "execution_count": 6,
     "metadata": {},
     "output_type": "execute_result"
    }
   ],
   "source": [
    "train_images.shape, train_labels.shape"
   ]
  },
  {
   "cell_type": "code",
   "execution_count": 7,
   "metadata": {},
   "outputs": [],
   "source": [
    "#Loading the test images and labels from mnist\n",
    "test_images = mnist.test_images()\n",
    "test_labels = mnist.test_labels()"
   ]
  },
  {
   "cell_type": "code",
   "execution_count": 8,
   "metadata": {},
   "outputs": [
    {
     "data": {
      "text/plain": [
       "((10000, 28, 28), (10000,))"
      ]
     },
     "execution_count": 8,
     "metadata": {},
     "output_type": "execute_result"
    }
   ],
   "source": [
    "test_images.shape, test_labels.shape"
   ]
  },
  {
   "cell_type": "markdown",
   "metadata": {},
   "source": [
    "Let's take a look at how this data looks like."
   ]
  },
  {
   "cell_type": "code",
   "execution_count": 9,
   "metadata": {},
   "outputs": [
    {
     "name": "stdout",
     "output_type": "stream",
     "text": [
      "2\n"
     ]
    },
    {
     "data": {
      "text/plain": [
       "<matplotlib.image.AxesImage at 0x1dfd8416e48>"
      ]
     },
     "execution_count": 9,
     "metadata": {},
     "output_type": "execute_result"
    },
    {
     "data": {
      "image/png": "[encoded data removed]",
      "text/plain": [
       "<Figure size 432x288 with 1 Axes>"
      ]
     },
     "metadata": {
      "needs_background": "light"
     },
     "output_type": "display_data"
    }
   ],
   "source": [
    "image_index = 7776 # You may select anything up to 60,000\n",
    "print(train_labels[image_index]) \n",
    "plt.imshow(train_images[image_index], cmap='Greys')"
   ]
  },
  {
   "cell_type": "markdown",
   "metadata": {},
   "source": [
    "## Filter data to get 3 and 8 out\n",
    "\n",
    "Now in order to create our classifier, we must filter our 3s and 8s from the lot. "
   ]
  },
  {
   "cell_type": "code",
   "execution_count": 10,
   "metadata": {},
   "outputs": [],
   "source": [
    "#filtering the 3 and 8 data - splitting it into test and train\n",
    "train_filter = np.where((train_labels == 3 ) | (train_labels == 8))\n",
    "test_filter = np.where((test_labels == 3) | (test_labels == 8))\n",
    "X_train, y_train = train_images[train_filter], train_labels[train_filter]\n",
    "X_test, y_test = test_images[test_filter], test_labels[test_filter]"
   ]
  },
  {
   "cell_type": "code",
   "execution_count": 11,
   "metadata": {},
   "outputs": [
    {
     "data": {
      "text/plain": [
       "(6131, 784)"
      ]
     },
     "execution_count": 11,
     "metadata": {},
     "output_type": "execute_result"
    }
   ],
   "source": [
    "#just storing all my 3 data in one variable for later use\n",
    "data_3 = train_images[np.where(train_labels == 3)]\n",
    "data_3 = data_3/255.\n",
    "data_3 = data_3.reshape(data_3.shape[0], -1)\n",
    "data_3.shape"
   ]
  },
  {
   "cell_type": "code",
   "execution_count": 12,
   "metadata": {},
   "outputs": [
    {
     "data": {
      "text/plain": [
       "(5851, 784)"
      ]
     },
     "execution_count": 12,
     "metadata": {},
     "output_type": "execute_result"
    }
   ],
   "source": [
    "#just storing all my 8 data in one variable for later use\n",
    "data_8 = train_images[np.where(train_labels == 8)]\n",
    "data_8 = data_8/255.\n",
    "data_8 = data_8.reshape(data_8.shape[0], -1)\n",
    "data_8.shape"
   ]
  },
  {
   "cell_type": "markdown",
   "metadata": {},
   "source": [
    "We normalize the pizel values in the 0 to 1 range"
   ]
  },
  {
   "cell_type": "code",
   "execution_count": 13,
   "metadata": {},
   "outputs": [],
   "source": [
    "X_train = X_train/255.\n",
    "X_test = X_test/255."
   ]
  },
  {
   "cell_type": "markdown",
   "metadata": {},
   "source": [
    "And setup the labels as 1 (when the digit is 3) and 0 (when the digit is 8)"
   ]
  },
  {
   "cell_type": "code",
   "execution_count": 14,
   "metadata": {},
   "outputs": [],
   "source": [
    "y_train = 1*(y_train==3)\n",
    "y_test = 1*(y_test==3)"
   ]
  },
  {
   "cell_type": "code",
   "execution_count": 15,
   "metadata": {},
   "outputs": [
    {
     "data": {
      "text/plain": [
       "((11982, 28, 28), (1984, 28, 28))"
      ]
     },
     "execution_count": 15,
     "metadata": {},
     "output_type": "execute_result"
    }
   ],
   "source": [
    "X_train.shape, X_test.shape"
   ]
  },
  {
   "cell_type": "markdown",
   "metadata": {},
   "source": [
    "We reshape the data to flatten the image pixels into a set of features or co-variates:"
   ]
  },
  {
   "cell_type": "code",
   "execution_count": 16,
   "metadata": {},
   "outputs": [
    {
     "data": {
      "text/plain": [
       "((11982, 784), (1984, 784))"
      ]
     },
     "execution_count": 16,
     "metadata": {},
     "output_type": "execute_result"
    }
   ],
   "source": [
    "X_train = X_train.reshape(X_train.shape[0], -1)\n",
    "X_test = X_test.reshape(X_test.shape[0], -1)\n",
    "X_train.shape, X_test.shape"
   ]
  },
  {
   "cell_type": "code",
   "execution_count": 17,
   "metadata": {},
   "outputs": [
    {
     "data": {
      "text/plain": [
       "((11982, 1), (1984, 1))"
      ]
     },
     "execution_count": 17,
     "metadata": {},
     "output_type": "execute_result"
    }
   ],
   "source": [
    "y_train = y_train.reshape(-1,1)\n",
    "y_test = y_test.reshape(-1,1)\n",
    "y_train.shape, y_test.shape "
   ]
  },
  {
   "cell_type": "markdown",
   "metadata": {},
   "source": [
    "### 1. I use the following configuration (or similar) to set up the model for training.\n",
    "\n",
    "```pythom\n",
    "class Config:\n",
    "    pass\n",
    "config = Config()\n",
    "config.lr = 0.001\n",
    "config.num_epochs = 200\n",
    "config.bs = 50\n",
    "```\n",
    "\n",
    "Now construct a model which has the following layers\n",
    "\n",
    "1. A first affine layer which has 784 inputs and does 100 affine transforms. These are followed by a `Relu`\n",
    "2. A second affine layer which has 100 inputs from the 100 activations of the past layer, and does 100 affine transforms. These are followed by a `Relu`\n",
    "3. A third affine layer which has 100 activations and does 2 affine transformations to create an embedding for visualization. There is no non-linearity here.\n",
    "4. A final \"logistic regression\" which has an affine transform from 2 inputs to 1 output, which is squeezed through a sigmoid."
   ]
  },
  {
   "cell_type": "code",
   "execution_count": 18,
   "metadata": {},
   "outputs": [],
   "source": [
    "from kudzu.model import Model\n",
    "from kudzu.layer import Affine, Sigmoid, Relu\n",
    "from kudzu.loss import BCE\n",
    "from kudzu.optim import GD\n",
    "from kudzu.data import Data, Dataloader, Sampler\n",
    "from kudzu.train import Learner\n",
    "from kudzu.callbacks import AccCallback"
   ]
  },
  {
   "cell_type": "code",
   "execution_count": 19,
   "metadata": {},
   "outputs": [],
   "source": [
    "class Config:\n",
    "    pass\n",
    "config = Config()\n",
    "config.lr = 0.001\n",
    "config.num_epochs = 200\n",
    "config.bs = 50"
   ]
  },
  {
   "cell_type": "code",
   "execution_count": 20,
   "metadata": {},
   "outputs": [],
   "source": [
    "train_data = Data(X_train, y_train)\n",
    "loss = BCE()\n",
    "opt = GD(config.lr)\n",
    "sampler = Sampler(train_data, config.bs, shuffle=True)\n",
    "train_dl = Dataloader(train_data, sampler)"
   ]
  },
  {
   "cell_type": "code",
   "execution_count": 21,
   "metadata": {},
   "outputs": [],
   "source": [
    "layers = [Affine(\"first\", 784, 100), Relu(\"relu\"), Affine(\"second\", 100, 100), Relu(\"relu\"), Affine(\"third\", 100, 2), Affine(\"output\", 2, 1), Sigmoid(\"sigmoid\")]\n",
    "model = Model(layers)"
   ]
  },
  {
   "cell_type": "markdown",
   "metadata": {},
   "source": [
    "### 2. Create a callback class\n",
    "\n",
    "I further added code to the  AccCallback class to add in the following functionalities. \n",
    "\n",
    "1. Initialized it to have accuracy arrays \n",
    "\n",
    "```python\n",
    "        self.accuracies = []\n",
    "        self.test_accuracies = []\n",
    "```\n",
    "2. Then at the end of each epoch, calculated the probabilities and hence predictions on both the training set and the test set. Printed these out once per epoch. \n",
    "\n",
    "3. Acumulated these in the above array. This will require me to keep track of all 4 training and test sets. \n",
    "\n",
    "4. I edited the `Learner` for this or pass these sets in some kind of data object to the callback.\n",
    "\n",
    "5. I also added tqdm functionality in the AccCallback class in order to visually see the batch running progress per epoch."
   ]
  },
  {
   "cell_type": "code",
   "execution_count": 22,
   "metadata": {},
   "outputs": [],
   "source": [
    "learner = Learner(loss, model, opt, config.num_epochs)\n",
    "acc = AccCallback(learner, config.bs)\n",
    "learner.set_callbacks([acc])"
   ]
  },
  {
   "cell_type": "markdown",
   "metadata": {},
   "source": [
    "### 3. Train the model"
   ]
  },
  {
   "cell_type": "code",
   "execution_count": 23,
   "metadata": {
    "scrolled": true
   },
   "outputs": [
    {
     "name": "stderr",
     "output_type": "stream",
     "text": [
      "Batch: 100%|████████████████████████████████████████████████████████████████████████| 240/240 [00:00<00:00, 289.36it/s]\n"
     ]
    },
    {
     "name": "stdout",
     "output_type": "stream",
     "text": [
      "Epoch: 0     Loss: 0.63479     Training Acc: 0.69095     Validation Acc: 0.83367\n"
     ]
    },
    {
     "name": "stderr",
     "output_type": "stream",
     "text": [
      "Batch: 100%|████████████████████████████████████████████████████████████████████████| 240/240 [00:00<00:00, 285.78it/s]\n"
     ]
    },
    {
     "name": "stdout",
     "output_type": "stream",
     "text": [
      "Epoch: 1     Loss: 0.51553     Training Acc: 0.86321     Validation Acc: 0.86215\n"
     ]
    },
    {
     "name": "stderr",
     "output_type": "stream",
     "text": [
      "Batch: 100%|████████████████████████████████████████████████████████████████████████| 240/240 [00:00<00:00, 273.81it/s]\n"
     ]
    },
    {
     "name": "stdout",
     "output_type": "stream",
     "text": [
      "Epoch: 2     Loss: 0.41442     Training Acc: 0.89092     Validation Acc: 0.87618\n"
     ]
    },
    {
     "name": "stderr",
     "output_type": "stream",
     "text": [
      "Batch: 100%|████████████████████████████████████████████████████████████████████████| 240/240 [00:00<00:00, 269.70it/s]\n"
     ]
    },
    {
     "name": "stdout",
     "output_type": "stream",
     "text": [
      "Epoch: 3     Loss: 0.33761     Training Acc: 0.90694     Validation Acc: 0.88596\n"
     ]
    },
    {
     "name": "stderr",
     "output_type": "stream",
     "text": [
      "Batch: 100%|████████████████████████████████████████████████████████████████████████| 240/240 [00:00<00:00, 283.72it/s]\n"
     ]
    },
    {
     "name": "stdout",
     "output_type": "stream",
     "text": [
      "Epoch: 4     Loss: 0.28335     Training Acc: 0.9198     Validation Acc: 0.89355\n"
     ]
    },
    {
     "name": "stderr",
     "output_type": "stream",
     "text": [
      "Batch: 100%|████████████████████████████████████████████████████████████████████████| 240/240 [00:00<00:00, 264.08it/s]\n"
     ]
    },
    {
     "name": "stdout",
     "output_type": "stream",
     "text": [
      "Epoch: 5     Loss: 0.24552     Training Acc: 0.92706     Validation Acc: 0.90113\n"
     ]
    },
    {
     "name": "stderr",
     "output_type": "stream",
     "text": [
      "Batch: 100%|████████████████████████████████████████████████████████████████████████| 240/240 [00:00<00:00, 290.50it/s]\n"
     ]
    },
    {
     "name": "stdout",
     "output_type": "stream",
     "text": [
      "Epoch: 6     Loss: 0.21825     Training Acc: 0.9329     Validation Acc: 0.90719\n"
     ]
    },
    {
     "name": "stderr",
     "output_type": "stream",
     "text": [
      "Batch: 100%|████████████████████████████████████████████████████████████████████████| 240/240 [00:00<00:00, 271.30it/s]\n"
     ]
    },
    {
     "name": "stdout",
     "output_type": "stream",
     "text": [
      "Epoch: 7     Loss: 0.19798     Training Acc: 0.93908     Validation Acc: 0.91249\n"
     ]
    },
    {
     "name": "stderr",
     "output_type": "stream",
     "text": [
      "Batch: 100%|████████████████████████████████████████████████████████████████████████| 240/240 [00:00<00:00, 274.07it/s]\n"
     ]
    },
    {
     "name": "stdout",
     "output_type": "stream",
     "text": [
      "Epoch: 8     Loss: 0.1826     Training Acc: 0.94291     Validation Acc: 0.91689\n"
     ]
    },
    {
     "name": "stderr",
     "output_type": "stream",
     "text": [
      "Batch: 100%|████████████████████████████████████████████████████████████████████████| 240/240 [00:00<00:00, 278.76it/s]\n"
     ]
    },
    {
     "name": "stdout",
     "output_type": "stream",
     "text": [
      "Epoch: 9     Loss: 0.17065     Training Acc: 0.94492     Validation Acc: 0.92067\n"
     ]
    },
    {
     "name": "stderr",
     "output_type": "stream",
     "text": [
      "Batch: 100%|████████████████████████████████████████████████████████████████████████| 240/240 [00:00<00:00, 276.84it/s]\n"
     ]
    },
    {
     "name": "stdout",
     "output_type": "stream",
     "text": [
      "Epoch: 10     Loss: 0.16119     Training Acc: 0.94809     Validation Acc: 0.92394\n"
     ]
    },
    {
     "name": "stderr",
     "output_type": "stream",
     "text": [
      "Batch: 100%|████████████████████████████████████████████████████████████████████████| 240/240 [00:00<00:00, 286.97it/s]\n"
     ]
    },
    {
     "name": "stdout",
     "output_type": "stream",
     "text": [
      "Epoch: 11     Loss: 0.15349     Training Acc: 0.95001     Validation Acc: 0.92679\n"
     ]
    },
    {
     "name": "stderr",
     "output_type": "stream",
     "text": [
      "Batch: 100%|████████████████████████████████████████████████████████████████████████| 240/240 [00:00<00:00, 285.04it/s]\n"
     ]
    },
    {
     "name": "stdout",
     "output_type": "stream",
     "text": [
      "Epoch: 12     Loss: 0.14716     Training Acc: 0.95209     Validation Acc: 0.92944\n"
     ]
    },
    {
     "name": "stderr",
     "output_type": "stream",
     "text": [
      "Batch: 100%|████████████████████████████████████████████████████████████████████████| 240/240 [00:00<00:00, 286.15it/s]\n"
     ]
    },
    {
     "name": "stdout",
     "output_type": "stream",
     "text": [
      "Epoch: 13     Loss: 0.14184     Training Acc: 0.95385     Validation Acc: 0.93174\n"
     ]
    },
    {
     "name": "stderr",
     "output_type": "stream",
     "text": [
      "Batch: 100%|████████████████████████████████████████████████████████████████████████| 240/240 [00:00<00:00, 285.69it/s]\n"
     ]
    },
    {
     "name": "stdout",
     "output_type": "stream",
     "text": [
      "Epoch: 14     Loss: 0.13741     Training Acc: 0.95527     Validation Acc: 0.9338\n"
     ]
    },
    {
     "name": "stderr",
     "output_type": "stream",
     "text": [
      "Batch: 100%|████████████████████████████████████████████████████████████████████████| 240/240 [00:00<00:00, 280.17it/s]\n"
     ]
    },
    {
     "name": "stdout",
     "output_type": "stream",
     "text": [
      "Epoch: 15     Loss: 0.13346     Training Acc: 0.95669     Validation Acc: 0.93558\n"
     ]
    },
    {
     "name": "stderr",
     "output_type": "stream",
     "text": [
      "Batch: 100%|████████████████████████████████████████████████████████████████████████| 240/240 [00:00<00:00, 278.77it/s]\n"
     ]
    },
    {
     "name": "stdout",
     "output_type": "stream",
     "text": [
      "Epoch: 16     Loss: 0.1302     Training Acc: 0.95835     Validation Acc: 0.93714\n"
     ]
    },
    {
     "name": "stderr",
     "output_type": "stream",
     "text": [
      "Batch: 100%|████████████████████████████████████████████████████████████████████████| 240/240 [00:00<00:00, 279.13it/s]\n"
     ]
    },
    {
     "name": "stdout",
     "output_type": "stream",
     "text": [
      "Epoch: 17     Loss: 0.12709     Training Acc: 0.95869     Validation Acc: 0.93859\n"
     ]
    },
    {
     "name": "stderr",
     "output_type": "stream",
     "text": [
      "Batch: 100%|████████████████████████████████████████████████████████████████████████| 240/240 [00:00<00:00, 287.99it/s]\n"
     ]
    },
    {
     "name": "stdout",
     "output_type": "stream",
     "text": [
      "Epoch: 18     Loss: 0.12449     Training Acc: 0.95969     Validation Acc: 0.93991\n"
     ]
    },
    {
     "name": "stderr",
     "output_type": "stream",
     "text": [
      "Batch: 100%|████████████████████████████████████████████████████████████████████████| 240/240 [00:00<00:00, 280.50it/s]\n"
     ]
    },
    {
     "name": "stdout",
     "output_type": "stream",
     "text": [
      "Epoch: 19     Loss: 0.12207     Training Acc: 0.96044     Validation Acc: 0.94105\n"
     ]
    },
    {
     "name": "stderr",
     "output_type": "stream",
     "text": [
      "Batch: 100%|████████████████████████████████████████████████████████████████████████| 240/240 [00:00<00:00, 287.30it/s]\n"
     ]
    },
    {
     "name": "stdout",
     "output_type": "stream",
     "text": [
      "Epoch: 20     Loss: 0.11989     Training Acc: 0.96094     Validation Acc: 0.94211\n"
     ]
    },
    {
     "name": "stderr",
     "output_type": "stream",
     "text": [
      "Batch: 100%|████████████████████████████████████████████████████████████████████████| 240/240 [00:00<00:00, 288.04it/s]\n"
     ]
    },
    {
     "name": "stdout",
     "output_type": "stream",
     "text": [
      "Epoch: 21     Loss: 0.11784     Training Acc: 0.96261     Validation Acc: 0.94314\n"
     ]
    },
    {
     "name": "stderr",
     "output_type": "stream",
     "text": [
      "Batch: 100%|████████████████████████████████████████████████████████████████████████| 240/240 [00:00<00:00, 289.68it/s]\n"
     ]
    },
    {
     "name": "stdout",
     "output_type": "stream",
     "text": [
      "Epoch: 22     Loss: 0.11607     Training Acc: 0.96294     Validation Acc: 0.94407\n"
     ]
    },
    {
     "name": "stderr",
     "output_type": "stream",
     "text": [
      "Batch: 100%|████████████████████████████████████████████████████████████████████████| 240/240 [00:00<00:00, 288.73it/s]\n"
     ]
    },
    {
     "name": "stdout",
     "output_type": "stream",
     "text": [
      "Epoch: 23     Loss: 0.11435     Training Acc: 0.96311     Validation Acc: 0.94498\n"
     ]
    },
    {
     "name": "stderr",
     "output_type": "stream",
     "text": [
      "Batch: 100%|████████████████████████████████████████████████████████████████████████| 240/240 [00:00<00:00, 289.21it/s]\n"
     ]
    },
    {
     "name": "stdout",
     "output_type": "stream",
     "text": [
      "Epoch: 24     Loss: 0.11279     Training Acc: 0.96345     Validation Acc: 0.94583\n"
     ]
    },
    {
     "name": "stderr",
     "output_type": "stream",
     "text": [
      "Batch: 100%|████████████████████████████████████████████████████████████████████████| 240/240 [00:00<00:00, 289.12it/s]\n"
     ]
    },
    {
     "name": "stdout",
     "output_type": "stream",
     "text": [
      "Epoch: 25     Loss: 0.11128     Training Acc: 0.9642     Validation Acc: 0.94663\n"
     ]
    },
    {
     "name": "stderr",
     "output_type": "stream",
     "text": [
      "Batch: 100%|████████████████████████████████████████████████████████████████████████| 240/240 [00:00<00:00, 288.90it/s]\n"
     ]
    },
    {
     "name": "stdout",
     "output_type": "stream",
     "text": [
      "Epoch: 26     Loss: 0.1099     Training Acc: 0.96453     Validation Acc: 0.94741\n"
     ]
    },
    {
     "name": "stderr",
     "output_type": "stream",
     "text": [
      "Batch: 100%|████████████████████████████████████████████████████████████████████████| 240/240 [00:00<00:00, 286.85it/s]\n"
     ]
    },
    {
     "name": "stdout",
     "output_type": "stream",
     "text": [
      "Epoch: 27     Loss: 0.10846     Training Acc: 0.96553     Validation Acc: 0.94819\n"
     ]
    },
    {
     "name": "stderr",
     "output_type": "stream",
     "text": [
      "Batch: 100%|████████████████████████████████████████████████████████████████████████| 240/240 [00:00<00:00, 284.88it/s]\n"
     ]
    },
    {
     "name": "stdout",
     "output_type": "stream",
     "text": [
      "Epoch: 28     Loss: 0.10738     Training Acc: 0.96587     Validation Acc: 0.94892\n"
     ]
    },
    {
     "name": "stderr",
     "output_type": "stream",
     "text": [
      "Batch: 100%|████████████████████████████████████████████████████████████████████████| 240/240 [00:00<00:00, 289.42it/s]\n"
     ]
    },
    {
     "name": "stdout",
     "output_type": "stream",
     "text": [
      "Epoch: 29     Loss: 0.10617     Training Acc: 0.96645     Validation Acc: 0.94961\n"
     ]
    },
    {
     "name": "stderr",
     "output_type": "stream",
     "text": [
      "Batch: 100%|████████████████████████████████████████████████████████████████████████| 240/240 [00:00<00:00, 287.49it/s]\n"
     ]
    },
    {
     "name": "stdout",
     "output_type": "stream",
     "text": [
      "Epoch: 30     Loss: 0.10508     Training Acc: 0.96737     Validation Acc: 0.9503\n"
     ]
    },
    {
     "name": "stderr",
     "output_type": "stream",
     "text": [
      "Batch: 100%|████████████████████████████████████████████████████████████████████████| 240/240 [00:00<00:00, 284.25it/s]\n"
     ]
    },
    {
     "name": "stdout",
     "output_type": "stream",
     "text": [
      "Epoch: 31     Loss: 0.10392     Training Acc: 0.96745     Validation Acc: 0.95092\n"
     ]
    },
    {
     "name": "stderr",
     "output_type": "stream",
     "text": [
      "Batch: 100%|████████████████████████████████████████████████████████████████████████| 240/240 [00:00<00:00, 283.11it/s]\n"
     ]
    },
    {
     "name": "stdout",
     "output_type": "stream",
     "text": [
      "Epoch: 32     Loss: 0.103     Training Acc: 0.96787     Validation Acc: 0.95154\n"
     ]
    },
    {
     "name": "stderr",
     "output_type": "stream",
     "text": [
      "Batch: 100%|████████████████████████████████████████████████████████████████████████| 240/240 [00:00<00:00, 271.02it/s]\n"
     ]
    },
    {
     "name": "stdout",
     "output_type": "stream",
     "text": [
      "Epoch: 33     Loss: 0.10193     Training Acc: 0.9682     Validation Acc: 0.95209\n"
     ]
    },
    {
     "name": "stderr",
     "output_type": "stream",
     "text": [
      "Batch: 100%|████████████████████████████████████████████████████████████████████████| 240/240 [00:00<00:00, 282.75it/s]\n"
     ]
    },
    {
     "name": "stdout",
     "output_type": "stream",
     "text": [
      "Epoch: 34     Loss: 0.10104     Training Acc: 0.96862     Validation Acc: 0.95264\n"
     ]
    },
    {
     "name": "stderr",
     "output_type": "stream",
     "text": [
      "Batch: 100%|████████████████████████████████████████████████████████████████████████| 240/240 [00:00<00:00, 288.07it/s]\n"
     ]
    },
    {
     "name": "stdout",
     "output_type": "stream",
     "text": [
      "Epoch: 35     Loss: 0.10013     Training Acc: 0.96862     Validation Acc: 0.95318\n"
     ]
    },
    {
     "name": "stderr",
     "output_type": "stream",
     "text": [
      "Batch: 100%|████████████████████████████████████████████████████████████████████████| 240/240 [00:00<00:00, 286.92it/s]\n"
     ]
    },
    {
     "name": "stdout",
     "output_type": "stream",
     "text": [
      "Epoch: 36     Loss: 0.09928     Training Acc: 0.96904     Validation Acc: 0.95368\n"
     ]
    },
    {
     "name": "stderr",
     "output_type": "stream",
     "text": [
      "Batch: 100%|████████████████████████████████████████████████████████████████████████| 240/240 [00:00<00:00, 287.24it/s]\n"
     ]
    },
    {
     "name": "stdout",
     "output_type": "stream",
     "text": [
      "Epoch: 37     Loss: 0.09842     Training Acc: 0.96954     Validation Acc: 0.95412\n"
     ]
    },
    {
     "name": "stderr",
     "output_type": "stream",
     "text": [
      "Batch: 100%|████████████████████████████████████████████████████████████████████████| 240/240 [00:00<00:00, 289.91it/s]\n"
     ]
    },
    {
     "name": "stdout",
     "output_type": "stream",
     "text": [
      "Epoch: 38     Loss: 0.0976     Training Acc: 0.96954     Validation Acc: 0.95461\n"
     ]
    },
    {
     "name": "stderr",
     "output_type": "stream",
     "text": [
      "Batch: 100%|████████████████████████████████████████████████████████████████████████| 240/240 [00:00<00:00, 289.94it/s]\n"
     ]
    },
    {
     "name": "stdout",
     "output_type": "stream",
     "text": [
      "Epoch: 39     Loss: 0.09679     Training Acc: 0.97021     Validation Acc: 0.95508\n"
     ]
    },
    {
     "name": "stderr",
     "output_type": "stream",
     "text": [
      "Batch: 100%|████████████████████████████████████████████████████████████████████████| 240/240 [00:00<00:00, 290.15it/s]\n"
     ]
    },
    {
     "name": "stdout",
     "output_type": "stream",
     "text": [
      "Epoch: 40     Loss: 0.09599     Training Acc: 0.97087     Validation Acc: 0.95551\n"
     ]
    },
    {
     "name": "stderr",
     "output_type": "stream",
     "text": [
      "Batch: 100%|████████████████████████████████████████████████████████████████████████| 240/240 [00:00<00:00, 287.13it/s]\n"
     ]
    },
    {
     "name": "stdout",
     "output_type": "stream",
     "text": [
      "Epoch: 41     Loss: 0.0952     Training Acc: 0.97054     Validation Acc: 0.95595\n"
     ]
    },
    {
     "name": "stderr",
     "output_type": "stream",
     "text": [
      "Batch: 100%|████████████████████████████████████████████████████████████████████████| 240/240 [00:00<00:00, 291.49it/s]\n"
     ]
    },
    {
     "name": "stdout",
     "output_type": "stream",
     "text": [
      "Epoch: 42     Loss: 0.09441     Training Acc: 0.97046     Validation Acc: 0.95634\n"
     ]
    },
    {
     "name": "stderr",
     "output_type": "stream",
     "text": [
      "Batch: 100%|████████████████████████████████████████████████████████████████████████| 240/240 [00:00<00:00, 288.12it/s]\n"
     ]
    },
    {
     "name": "stdout",
     "output_type": "stream",
     "text": [
      "Epoch: 43     Loss: 0.09378     Training Acc: 0.97129     Validation Acc: 0.95673\n"
     ]
    },
    {
     "name": "stderr",
     "output_type": "stream",
     "text": [
      "Batch: 100%|████████████████████████████████████████████████████████████████████████| 240/240 [00:00<00:00, 286.76it/s]\n"
     ]
    },
    {
     "name": "stdout",
     "output_type": "stream",
     "text": [
      "Epoch: 44     Loss: 0.09302     Training Acc: 0.97112     Validation Acc: 0.95711\n"
     ]
    },
    {
     "name": "stderr",
     "output_type": "stream",
     "text": [
      "Batch: 100%|████████████████████████████████████████████████████████████████████████| 240/240 [00:00<00:00, 287.12it/s]\n"
     ]
    },
    {
     "name": "stdout",
     "output_type": "stream",
     "text": [
      "Epoch: 45     Loss: 0.09228     Training Acc: 0.97129     Validation Acc: 0.95748\n"
     ]
    },
    {
     "name": "stderr",
     "output_type": "stream",
     "text": [
      "Batch: 100%|████████████████████████████████████████████████████████████████████████| 240/240 [00:00<00:00, 287.69it/s]\n"
     ]
    },
    {
     "name": "stdout",
     "output_type": "stream",
     "text": [
      "Epoch: 46     Loss: 0.09161     Training Acc: 0.97146     Validation Acc: 0.95782\n"
     ]
    },
    {
     "name": "stderr",
     "output_type": "stream",
     "text": [
      "Batch: 100%|████████████████████████████████████████████████████████████████████████| 240/240 [00:00<00:00, 288.18it/s]\n"
     ]
    },
    {
     "name": "stdout",
     "output_type": "stream",
     "text": [
      "Epoch: 47     Loss: 0.09097     Training Acc: 0.97179     Validation Acc: 0.95815\n"
     ]
    },
    {
     "name": "stderr",
     "output_type": "stream",
     "text": [
      "Batch: 100%|████████████████████████████████████████████████████████████████████████| 240/240 [00:00<00:00, 283.52it/s]\n"
     ]
    },
    {
     "name": "stdout",
     "output_type": "stream",
     "text": [
      "Epoch: 48     Loss: 0.09024     Training Acc: 0.97204     Validation Acc: 0.95849\n"
     ]
    },
    {
     "name": "stderr",
     "output_type": "stream",
     "text": [
      "Batch: 100%|████████████████████████████████████████████████████████████████████████| 240/240 [00:00<00:00, 282.37it/s]\n"
     ]
    },
    {
     "name": "stdout",
     "output_type": "stream",
     "text": [
      "Epoch: 49     Loss: 0.08961     Training Acc: 0.97179     Validation Acc: 0.95882\n"
     ]
    },
    {
     "name": "stderr",
     "output_type": "stream",
     "text": [
      "Batch: 100%|████████████████████████████████████████████████████████████████████████| 240/240 [00:00<00:00, 278.12it/s]\n"
     ]
    },
    {
     "name": "stdout",
     "output_type": "stream",
     "text": [
      "Epoch: 50     Loss: 0.08899     Training Acc: 0.97238     Validation Acc: 0.95913\n"
     ]
    },
    {
     "name": "stderr",
     "output_type": "stream",
     "text": [
      "Batch: 100%|████████████████████████████████████████████████████████████████████████| 240/240 [00:00<00:00, 278.87it/s]\n"
     ]
    },
    {
     "name": "stdout",
     "output_type": "stream",
     "text": [
      "Epoch: 51     Loss: 0.08833     Training Acc: 0.97254     Validation Acc: 0.95942\n"
     ]
    },
    {
     "name": "stderr",
     "output_type": "stream",
     "text": [
      "Batch: 100%|████████████████████████████████████████████████████████████████████████| 240/240 [00:00<00:00, 281.63it/s]\n"
     ]
    },
    {
     "name": "stdout",
     "output_type": "stream",
     "text": [
      "Epoch: 52     Loss: 0.08776     Training Acc: 0.97263     Validation Acc: 0.9597\n"
     ]
    },
    {
     "name": "stderr",
     "output_type": "stream",
     "text": [
      "Batch: 100%|████████████████████████████████████████████████████████████████████████| 240/240 [00:00<00:00, 279.82it/s]\n"
     ]
    },
    {
     "name": "stdout",
     "output_type": "stream",
     "text": [
      "Epoch: 53     Loss: 0.08711     Training Acc: 0.97304     Validation Acc: 0.95998\n"
     ]
    },
    {
     "name": "stderr",
     "output_type": "stream",
     "text": [
      "Batch: 100%|████████████████████████████████████████████████████████████████████████| 240/240 [00:00<00:00, 283.98it/s]\n"
     ]
    },
    {
     "name": "stdout",
     "output_type": "stream",
     "text": [
      "Epoch: 54     Loss: 0.08643     Training Acc: 0.97271     Validation Acc: 0.96025\n"
     ]
    },
    {
     "name": "stderr",
     "output_type": "stream",
     "text": [
      "Batch: 100%|████████████████████████████████████████████████████████████████████████| 240/240 [00:00<00:00, 277.87it/s]\n"
     ]
    },
    {
     "name": "stdout",
     "output_type": "stream",
     "text": [
      "Epoch: 55     Loss: 0.08588     Training Acc: 0.97296     Validation Acc: 0.96052\n"
     ]
    },
    {
     "name": "stderr",
     "output_type": "stream",
     "text": [
      "Batch: 100%|████████████████████████████████████████████████████████████████████████| 240/240 [00:00<00:00, 285.16it/s]\n"
     ]
    },
    {
     "name": "stdout",
     "output_type": "stream",
     "text": [
      "Epoch: 56     Loss: 0.08531     Training Acc: 0.97354     Validation Acc: 0.96079\n"
     ]
    },
    {
     "name": "stderr",
     "output_type": "stream",
     "text": [
      "Batch: 100%|████████████████████████████████████████████████████████████████████████| 240/240 [00:00<00:00, 287.93it/s]\n"
     ]
    },
    {
     "name": "stdout",
     "output_type": "stream",
     "text": [
      "Epoch: 57     Loss: 0.08462     Training Acc: 0.97371     Validation Acc: 0.96102\n"
     ]
    },
    {
     "name": "stderr",
     "output_type": "stream",
     "text": [
      "Batch: 100%|████████████████████████████████████████████████████████████████████████| 240/240 [00:00<00:00, 288.08it/s]\n"
     ]
    },
    {
     "name": "stdout",
     "output_type": "stream",
     "text": [
      "Epoch: 58     Loss: 0.08417     Training Acc: 0.97379     Validation Acc: 0.96127\n"
     ]
    },
    {
     "name": "stderr",
     "output_type": "stream",
     "text": [
      "Batch: 100%|████████████████████████████████████████████████████████████████████████| 240/240 [00:00<00:00, 288.11it/s]\n"
     ]
    },
    {
     "name": "stdout",
     "output_type": "stream",
     "text": [
      "Epoch: 59     Loss: 0.08354     Training Acc: 0.97379     Validation Acc: 0.96152\n"
     ]
    },
    {
     "name": "stderr",
     "output_type": "stream",
     "text": [
      "Batch: 100%|████████████████████████████████████████████████████████████████████████| 240/240 [00:00<00:00, 281.43it/s]\n"
     ]
    },
    {
     "name": "stdout",
     "output_type": "stream",
     "text": [
      "Epoch: 60     Loss: 0.08281     Training Acc: 0.97388     Validation Acc: 0.96176\n"
     ]
    },
    {
     "name": "stderr",
     "output_type": "stream",
     "text": [
      "Batch: 100%|████████████████████████████████████████████████████████████████████████| 240/240 [00:00<00:00, 274.89it/s]\n"
     ]
    },
    {
     "name": "stdout",
     "output_type": "stream",
     "text": [
      "Epoch: 61     Loss: 0.08242     Training Acc: 0.97413     Validation Acc: 0.96199\n"
     ]
    },
    {
     "name": "stderr",
     "output_type": "stream",
     "text": [
      "Batch: 100%|████████████████████████████████████████████████████████████████████████| 240/240 [00:00<00:00, 283.65it/s]\n"
     ]
    },
    {
     "name": "stdout",
     "output_type": "stream",
     "text": [
      "Epoch: 62     Loss: 0.08179     Training Acc: 0.97421     Validation Acc: 0.96218\n"
     ]
    },
    {
     "name": "stderr",
     "output_type": "stream",
     "text": [
      "Batch: 100%|████████████████████████████████████████████████████████████████████████| 240/240 [00:00<00:00, 282.10it/s]\n"
     ]
    },
    {
     "name": "stdout",
     "output_type": "stream",
     "text": [
      "Epoch: 63     Loss: 0.08124     Training Acc: 0.9748     Validation Acc: 0.96238\n"
     ]
    },
    {
     "name": "stderr",
     "output_type": "stream",
     "text": [
      "Batch: 100%|████████████████████████████████████████████████████████████████████████| 240/240 [00:00<00:00, 286.06it/s]\n"
     ]
    },
    {
     "name": "stdout",
     "output_type": "stream",
     "text": [
      "Epoch: 64     Loss: 0.08072     Training Acc: 0.97446     Validation Acc: 0.96259\n"
     ]
    },
    {
     "name": "stderr",
     "output_type": "stream",
     "text": [
      "Batch: 100%|████████████████████████████████████████████████████████████████████████| 240/240 [00:00<00:00, 283.40it/s]\n"
     ]
    },
    {
     "name": "stdout",
     "output_type": "stream",
     "text": [
      "Epoch: 65     Loss: 0.08008     Training Acc: 0.9753     Validation Acc: 0.96278\n"
     ]
    },
    {
     "name": "stderr",
     "output_type": "stream",
     "text": [
      "Batch: 100%|████████████████████████████████████████████████████████████████████████| 240/240 [00:00<00:00, 285.46it/s]\n"
     ]
    },
    {
     "name": "stdout",
     "output_type": "stream",
     "text": [
      "Epoch: 66     Loss: 0.07951     Training Acc: 0.97471     Validation Acc: 0.96299\n"
     ]
    },
    {
     "name": "stderr",
     "output_type": "stream",
     "text": [
      "Batch: 100%|████████████████████████████████████████████████████████████████████████| 240/240 [00:00<00:00, 281.84it/s]\n"
     ]
    },
    {
     "name": "stdout",
     "output_type": "stream",
     "text": [
      "Epoch: 67     Loss: 0.07905     Training Acc: 0.97555     Validation Acc: 0.96317\n"
     ]
    },
    {
     "name": "stderr",
     "output_type": "stream",
     "text": [
      "Batch: 100%|████████████████████████████████████████████████████████████████████████| 240/240 [00:00<00:00, 273.54it/s]\n"
     ]
    },
    {
     "name": "stdout",
     "output_type": "stream",
     "text": [
      "Epoch: 68     Loss: 0.07848     Training Acc: 0.97546     Validation Acc: 0.96335\n"
     ]
    },
    {
     "name": "stderr",
     "output_type": "stream",
     "text": [
      "Batch: 100%|████████████████████████████████████████████████████████████████████████| 240/240 [00:00<00:00, 271.13it/s]\n"
     ]
    },
    {
     "name": "stdout",
     "output_type": "stream",
     "text": [
      "Epoch: 69     Loss: 0.07798     Training Acc: 0.9758     Validation Acc: 0.96353\n"
     ]
    },
    {
     "name": "stderr",
     "output_type": "stream",
     "text": [
      "Batch: 100%|████████████████████████████████████████████████████████████████████████| 240/240 [00:00<00:00, 277.92it/s]\n"
     ]
    },
    {
     "name": "stdout",
     "output_type": "stream",
     "text": [
      "Epoch: 70     Loss: 0.07743     Training Acc: 0.97613     Validation Acc: 0.96372\n"
     ]
    },
    {
     "name": "stderr",
     "output_type": "stream",
     "text": [
      "Batch: 100%|████████████████████████████████████████████████████████████████████████| 240/240 [00:00<00:00, 286.60it/s]\n"
     ]
    },
    {
     "name": "stdout",
     "output_type": "stream",
     "text": [
      "Epoch: 71     Loss: 0.07692     Training Acc: 0.97621     Validation Acc: 0.96388\n"
     ]
    },
    {
     "name": "stderr",
     "output_type": "stream",
     "text": [
      "Batch: 100%|████████████████████████████████████████████████████████████████████████| 240/240 [00:00<00:00, 289.67it/s]\n"
     ]
    },
    {
     "name": "stdout",
     "output_type": "stream",
     "text": [
      "Epoch: 72     Loss: 0.0764     Training Acc: 0.97646     Validation Acc: 0.96405\n"
     ]
    },
    {
     "name": "stderr",
     "output_type": "stream",
     "text": [
      "Batch: 100%|████████████████████████████████████████████████████████████████████████| 240/240 [00:00<00:00, 283.70it/s]\n"
     ]
    },
    {
     "name": "stdout",
     "output_type": "stream",
     "text": [
      "Epoch: 73     Loss: 0.07585     Training Acc: 0.97705     Validation Acc: 0.96422\n"
     ]
    },
    {
     "name": "stderr",
     "output_type": "stream",
     "text": [
      "Batch: 100%|████████████████████████████████████████████████████████████████████████| 240/240 [00:00<00:00, 285.25it/s]\n"
     ]
    },
    {
     "name": "stdout",
     "output_type": "stream",
     "text": [
      "Epoch: 74     Loss: 0.0753     Training Acc: 0.97688     Validation Acc: 0.96437\n"
     ]
    },
    {
     "name": "stderr",
     "output_type": "stream",
     "text": [
      "Batch: 100%|████████████████████████████████████████████████████████████████████████| 240/240 [00:00<00:00, 269.31it/s]\n"
     ]
    },
    {
     "name": "stdout",
     "output_type": "stream",
     "text": [
      "Epoch: 75     Loss: 0.0748     Training Acc: 0.97763     Validation Acc: 0.96453\n"
     ]
    },
    {
     "name": "stderr",
     "output_type": "stream",
     "text": [
      "Batch: 100%|████████████████████████████████████████████████████████████████████████| 240/240 [00:00<00:00, 286.06it/s]\n"
     ]
    },
    {
     "name": "stdout",
     "output_type": "stream",
     "text": [
      "Epoch: 76     Loss: 0.07435     Training Acc: 0.9778     Validation Acc: 0.96468\n"
     ]
    },
    {
     "name": "stderr",
     "output_type": "stream",
     "text": [
      "Batch: 100%|████████████████████████████████████████████████████████████████████████| 240/240 [00:00<00:00, 271.55it/s]\n"
     ]
    },
    {
     "name": "stdout",
     "output_type": "stream",
     "text": [
      "Epoch: 77     Loss: 0.0738     Training Acc: 0.97713     Validation Acc: 0.96483\n"
     ]
    },
    {
     "name": "stderr",
     "output_type": "stream",
     "text": [
      "Batch: 100%|████████████████████████████████████████████████████████████████████████| 240/240 [00:00<00:00, 283.61it/s]\n"
     ]
    },
    {
     "name": "stdout",
     "output_type": "stream",
     "text": [
      "Epoch: 78     Loss: 0.07332     Training Acc: 0.97788     Validation Acc: 0.96499\n"
     ]
    },
    {
     "name": "stderr",
     "output_type": "stream",
     "text": [
      "Batch: 100%|████████████████████████████████████████████████████████████████████████| 240/240 [00:00<00:00, 289.22it/s]\n"
     ]
    },
    {
     "name": "stdout",
     "output_type": "stream",
     "text": [
      "Epoch: 79     Loss: 0.07277     Training Acc: 0.97813     Validation Acc: 0.96514\n"
     ]
    },
    {
     "name": "stderr",
     "output_type": "stream",
     "text": [
      "Batch: 100%|████████████████████████████████████████████████████████████████████████| 240/240 [00:00<00:00, 284.09it/s]\n"
     ]
    },
    {
     "name": "stdout",
     "output_type": "stream",
     "text": [
      "Epoch: 80     Loss: 0.0723     Training Acc: 0.97813     Validation Acc: 0.96528\n"
     ]
    },
    {
     "name": "stderr",
     "output_type": "stream",
     "text": [
      "Batch: 100%|████████████████████████████████████████████████████████████████████████| 240/240 [00:00<00:00, 281.73it/s]\n"
     ]
    },
    {
     "name": "stdout",
     "output_type": "stream",
     "text": [
      "Epoch: 81     Loss: 0.07181     Training Acc: 0.97838     Validation Acc: 0.96542\n"
     ]
    },
    {
     "name": "stderr",
     "output_type": "stream",
     "text": [
      "Batch: 100%|████████████████████████████████████████████████████████████████████████| 240/240 [00:00<00:00, 285.30it/s]\n"
     ]
    },
    {
     "name": "stdout",
     "output_type": "stream",
     "text": [
      "Epoch: 82     Loss: 0.07125     Training Acc: 0.97838     Validation Acc: 0.96555\n"
     ]
    },
    {
     "name": "stderr",
     "output_type": "stream",
     "text": [
      "Batch: 100%|████████████████████████████████████████████████████████████████████████| 240/240 [00:00<00:00, 284.24it/s]\n"
     ]
    },
    {
     "name": "stdout",
     "output_type": "stream",
     "text": [
      "Epoch: 83     Loss: 0.07083     Training Acc: 0.97872     Validation Acc: 0.96568\n"
     ]
    },
    {
     "name": "stderr",
     "output_type": "stream",
     "text": [
      "Batch: 100%|████████████████████████████████████████████████████████████████████████| 240/240 [00:00<00:00, 287.29it/s]\n"
     ]
    },
    {
     "name": "stdout",
     "output_type": "stream",
     "text": [
      "Epoch: 84     Loss: 0.07036     Training Acc: 0.97905     Validation Acc: 0.9658\n"
     ]
    },
    {
     "name": "stderr",
     "output_type": "stream",
     "text": [
      "Batch: 100%|████████████████████████████████████████████████████████████████████████| 240/240 [00:00<00:00, 286.53it/s]\n"
     ]
    },
    {
     "name": "stdout",
     "output_type": "stream",
     "text": [
      "Epoch: 85     Loss: 0.06984     Training Acc: 0.97922     Validation Acc: 0.96593\n"
     ]
    },
    {
     "name": "stderr",
     "output_type": "stream",
     "text": [
      "Batch: 100%|████████████████████████████████████████████████████████████████████████| 240/240 [00:00<00:00, 283.34it/s]\n"
     ]
    },
    {
     "name": "stdout",
     "output_type": "stream",
     "text": [
      "Epoch: 86     Loss: 0.0694     Training Acc: 0.97922     Validation Acc: 0.96606\n"
     ]
    },
    {
     "name": "stderr",
     "output_type": "stream",
     "text": [
      "Batch: 100%|████████████████████████████████████████████████████████████████████████| 240/240 [00:00<00:00, 286.93it/s]\n"
     ]
    },
    {
     "name": "stdout",
     "output_type": "stream",
     "text": [
      "Epoch: 87     Loss: 0.06884     Training Acc: 0.97972     Validation Acc: 0.96619\n"
     ]
    },
    {
     "name": "stderr",
     "output_type": "stream",
     "text": [
      "Batch: 100%|████████████████████████████████████████████████████████████████████████| 240/240 [00:00<00:00, 285.95it/s]\n"
     ]
    },
    {
     "name": "stdout",
     "output_type": "stream",
     "text": [
      "Epoch: 88     Loss: 0.0684     Training Acc: 0.9798     Validation Acc: 0.9663\n"
     ]
    },
    {
     "name": "stderr",
     "output_type": "stream",
     "text": [
      "Batch: 100%|████████████████████████████████████████████████████████████████████████| 240/240 [00:00<00:00, 279.23it/s]\n"
     ]
    },
    {
     "name": "stdout",
     "output_type": "stream",
     "text": [
      "Epoch: 89     Loss: 0.06793     Training Acc: 0.98022     Validation Acc: 0.96641\n"
     ]
    },
    {
     "name": "stderr",
     "output_type": "stream",
     "text": [
      "Batch: 100%|████████████████████████████████████████████████████████████████████████| 240/240 [00:00<00:00, 283.56it/s]\n"
     ]
    },
    {
     "name": "stdout",
     "output_type": "stream",
     "text": [
      "Epoch: 90     Loss: 0.06749     Training Acc: 0.98005     Validation Acc: 0.96652\n"
     ]
    },
    {
     "name": "stderr",
     "output_type": "stream",
     "text": [
      "Batch: 100%|████████████████████████████████████████████████████████████████████████| 240/240 [00:00<00:00, 277.04it/s]\n"
     ]
    },
    {
     "name": "stdout",
     "output_type": "stream",
     "text": [
      "Epoch: 91     Loss: 0.06701     Training Acc: 0.98014     Validation Acc: 0.96664\n"
     ]
    },
    {
     "name": "stderr",
     "output_type": "stream",
     "text": [
      "Batch: 100%|████████████████████████████████████████████████████████████████████████| 240/240 [00:00<00:00, 281.18it/s]\n"
     ]
    },
    {
     "name": "stdout",
     "output_type": "stream",
     "text": [
      "Epoch: 92     Loss: 0.06655     Training Acc: 0.98055     Validation Acc: 0.96676\n"
     ]
    },
    {
     "name": "stderr",
     "output_type": "stream",
     "text": [
      "Batch: 100%|████████████████████████████████████████████████████████████████████████| 240/240 [00:00<00:00, 285.67it/s]\n"
     ]
    },
    {
     "name": "stdout",
     "output_type": "stream",
     "text": [
      "Epoch: 93     Loss: 0.0661     Training Acc: 0.98072     Validation Acc: 0.96687\n"
     ]
    },
    {
     "name": "stderr",
     "output_type": "stream",
     "text": [
      "Batch: 100%|████████████████████████████████████████████████████████████████████████| 240/240 [00:00<00:00, 276.56it/s]\n"
     ]
    },
    {
     "name": "stdout",
     "output_type": "stream",
     "text": [
      "Epoch: 94     Loss: 0.06562     Training Acc: 0.9803     Validation Acc: 0.96697\n"
     ]
    },
    {
     "name": "stderr",
     "output_type": "stream",
     "text": [
      "Batch: 100%|████████████████████████████████████████████████████████████████████████| 240/240 [00:00<00:00, 286.64it/s]\n"
     ]
    },
    {
     "name": "stdout",
     "output_type": "stream",
     "text": [
      "Epoch: 95     Loss: 0.0651     Training Acc: 0.98097     Validation Acc: 0.96707\n"
     ]
    },
    {
     "name": "stderr",
     "output_type": "stream",
     "text": [
      "Batch: 100%|████████████████████████████████████████████████████████████████████████| 240/240 [00:00<00:00, 281.31it/s]\n"
     ]
    },
    {
     "name": "stdout",
     "output_type": "stream",
     "text": [
      "Epoch: 96     Loss: 0.06475     Training Acc: 0.98122     Validation Acc: 0.96718\n"
     ]
    },
    {
     "name": "stderr",
     "output_type": "stream",
     "text": [
      "Batch: 100%|████████████████████████████████████████████████████████████████████████| 240/240 [00:00<00:00, 285.34it/s]\n"
     ]
    },
    {
     "name": "stdout",
     "output_type": "stream",
     "text": [
      "Epoch: 97     Loss: 0.06423     Training Acc: 0.98147     Validation Acc: 0.96728\n"
     ]
    },
    {
     "name": "stderr",
     "output_type": "stream",
     "text": [
      "Batch: 100%|████████████████████████████████████████████████████████████████████████| 240/240 [00:00<00:00, 291.73it/s]\n"
     ]
    },
    {
     "name": "stdout",
     "output_type": "stream",
     "text": [
      "Epoch: 98     Loss: 0.06377     Training Acc: 0.98189     Validation Acc: 0.96738\n"
     ]
    },
    {
     "name": "stderr",
     "output_type": "stream",
     "text": [
      "Batch: 100%|████████████████████████████████████████████████████████████████████████| 240/240 [00:00<00:00, 283.96it/s]\n"
     ]
    },
    {
     "name": "stdout",
     "output_type": "stream",
     "text": [
      "Epoch: 99     Loss: 0.06332     Training Acc: 0.98197     Validation Acc: 0.96748\n"
     ]
    },
    {
     "name": "stderr",
     "output_type": "stream",
     "text": [
      "Batch: 100%|████████████████████████████████████████████████████████████████████████| 240/240 [00:00<00:00, 278.32it/s]\n"
     ]
    },
    {
     "name": "stdout",
     "output_type": "stream",
     "text": [
      "Epoch: 100     Loss: 0.06289     Training Acc: 0.98164     Validation Acc: 0.96759\n"
     ]
    },
    {
     "name": "stderr",
     "output_type": "stream",
     "text": [
      "Batch: 100%|████████████████████████████████████████████████████████████████████████| 240/240 [00:00<00:00, 280.30it/s]\n"
     ]
    },
    {
     "name": "stdout",
     "output_type": "stream",
     "text": [
      "Epoch: 101     Loss: 0.06241     Training Acc: 0.98222     Validation Acc: 0.96769\n"
     ]
    },
    {
     "name": "stderr",
     "output_type": "stream",
     "text": [
      "Batch: 100%|████████████████████████████████████████████████████████████████████████| 240/240 [00:00<00:00, 283.20it/s]\n"
     ]
    },
    {
     "name": "stdout",
     "output_type": "stream",
     "text": [
      "Epoch: 102     Loss: 0.062     Training Acc: 0.98256     Validation Acc: 0.9678\n"
     ]
    },
    {
     "name": "stderr",
     "output_type": "stream",
     "text": [
      "Batch: 100%|████████████████████████████████████████████████████████████████████████| 240/240 [00:00<00:00, 285.83it/s]\n"
     ]
    },
    {
     "name": "stdout",
     "output_type": "stream",
     "text": [
      "Epoch: 103     Loss: 0.06155     Training Acc: 0.98264     Validation Acc: 0.96789\n"
     ]
    },
    {
     "name": "stderr",
     "output_type": "stream",
     "text": [
      "Batch: 100%|████████████████████████████████████████████████████████████████████████| 240/240 [00:00<00:00, 286.00it/s]\n"
     ]
    },
    {
     "name": "stdout",
     "output_type": "stream",
     "text": [
      "Epoch: 104     Loss: 0.06109     Training Acc: 0.98272     Validation Acc: 0.96799\n"
     ]
    },
    {
     "name": "stderr",
     "output_type": "stream",
     "text": [
      "Batch: 100%|████████████████████████████████████████████████████████████████████████| 240/240 [00:00<00:00, 284.34it/s]\n"
     ]
    },
    {
     "name": "stdout",
     "output_type": "stream",
     "text": [
      "Epoch: 105     Loss: 0.06069     Training Acc: 0.98322     Validation Acc: 0.96808\n"
     ]
    },
    {
     "name": "stderr",
     "output_type": "stream",
     "text": [
      "Batch: 100%|████████████████████████████████████████████████████████████████████████| 240/240 [00:00<00:00, 289.07it/s]\n"
     ]
    },
    {
     "name": "stdout",
     "output_type": "stream",
     "text": [
      "Epoch: 106     Loss: 0.06025     Training Acc: 0.98331     Validation Acc: 0.96818\n"
     ]
    },
    {
     "name": "stderr",
     "output_type": "stream",
     "text": [
      "Batch: 100%|████████████████████████████████████████████████████████████████████████| 240/240 [00:00<00:00, 288.31it/s]\n"
     ]
    },
    {
     "name": "stdout",
     "output_type": "stream",
     "text": [
      "Epoch: 107     Loss: 0.05976     Training Acc: 0.98331     Validation Acc: 0.96827\n"
     ]
    },
    {
     "name": "stderr",
     "output_type": "stream",
     "text": [
      "Batch: 100%|████████████████████████████████████████████████████████████████████████| 240/240 [00:00<00:00, 281.14it/s]\n"
     ]
    },
    {
     "name": "stdout",
     "output_type": "stream",
     "text": [
      "Epoch: 108     Loss: 0.05937     Training Acc: 0.98348     Validation Acc: 0.96837\n"
     ]
    },
    {
     "name": "stderr",
     "output_type": "stream",
     "text": [
      "Batch: 100%|████████████████████████████████████████████████████████████████████████| 240/240 [00:00<00:00, 276.89it/s]\n"
     ]
    },
    {
     "name": "stdout",
     "output_type": "stream",
     "text": [
      "Epoch: 109     Loss: 0.05895     Training Acc: 0.98389     Validation Acc: 0.96846\n"
     ]
    },
    {
     "name": "stderr",
     "output_type": "stream",
     "text": [
      "Batch: 100%|████████████████████████████████████████████████████████████████████████| 240/240 [00:00<00:00, 269.85it/s]\n"
     ]
    },
    {
     "name": "stdout",
     "output_type": "stream",
     "text": [
      "Epoch: 110     Loss: 0.0585     Training Acc: 0.98389     Validation Acc: 0.96855\n"
     ]
    },
    {
     "name": "stderr",
     "output_type": "stream",
     "text": [
      "Batch: 100%|████████████████████████████████████████████████████████████████████████| 240/240 [00:00<00:00, 247.91it/s]\n"
     ]
    },
    {
     "name": "stdout",
     "output_type": "stream",
     "text": [
      "Epoch: 111     Loss: 0.05811     Training Acc: 0.98423     Validation Acc: 0.96863\n"
     ]
    },
    {
     "name": "stderr",
     "output_type": "stream",
     "text": [
      "Batch: 100%|████████████████████████████████████████████████████████████████████████| 240/240 [00:00<00:00, 278.56it/s]\n"
     ]
    },
    {
     "name": "stdout",
     "output_type": "stream",
     "text": [
      "Epoch: 112     Loss: 0.05767     Training Acc: 0.98456     Validation Acc: 0.96872\n"
     ]
    },
    {
     "name": "stderr",
     "output_type": "stream",
     "text": [
      "Batch: 100%|████████████████████████████████████████████████████████████████████████| 240/240 [00:00<00:00, 249.20it/s]\n"
     ]
    },
    {
     "name": "stdout",
     "output_type": "stream",
     "text": [
      "Epoch: 113     Loss: 0.05723     Training Acc: 0.98423     Validation Acc: 0.9688\n"
     ]
    },
    {
     "name": "stderr",
     "output_type": "stream",
     "text": [
      "Batch: 100%|████████████████████████████████████████████████████████████████████████| 240/240 [00:00<00:00, 269.75it/s]\n"
     ]
    },
    {
     "name": "stdout",
     "output_type": "stream",
     "text": [
      "Epoch: 114     Loss: 0.05685     Training Acc: 0.98439     Validation Acc: 0.96888\n"
     ]
    },
    {
     "name": "stderr",
     "output_type": "stream",
     "text": [
      "Batch: 100%|████████████████████████████████████████████████████████████████████████| 240/240 [00:00<00:00, 276.50it/s]\n"
     ]
    },
    {
     "name": "stdout",
     "output_type": "stream",
     "text": [
      "Epoch: 115     Loss: 0.05638     Training Acc: 0.98464     Validation Acc: 0.96896\n"
     ]
    },
    {
     "name": "stderr",
     "output_type": "stream",
     "text": [
      "Batch: 100%|████████████████████████████████████████████████████████████████████████| 240/240 [00:00<00:00, 268.91it/s]\n"
     ]
    },
    {
     "name": "stdout",
     "output_type": "stream",
     "text": [
      "Epoch: 116     Loss: 0.05601     Training Acc: 0.98464     Validation Acc: 0.96904\n"
     ]
    },
    {
     "name": "stderr",
     "output_type": "stream",
     "text": [
      "Batch: 100%|████████████████████████████████████████████████████████████████████████| 240/240 [00:00<00:00, 268.12it/s]\n"
     ]
    },
    {
     "name": "stdout",
     "output_type": "stream",
     "text": [
      "Epoch: 117     Loss: 0.05559     Training Acc: 0.98464     Validation Acc: 0.96913\n"
     ]
    },
    {
     "name": "stderr",
     "output_type": "stream",
     "text": [
      "Batch: 100%|████████████████████████████████████████████████████████████████████████| 240/240 [00:00<00:00, 271.14it/s]\n"
     ]
    },
    {
     "name": "stdout",
     "output_type": "stream",
     "text": [
      "Epoch: 118     Loss: 0.05517     Training Acc: 0.98489     Validation Acc: 0.96921\n"
     ]
    },
    {
     "name": "stderr",
     "output_type": "stream",
     "text": [
      "Batch: 100%|████████████████████████████████████████████████████████████████████████| 240/240 [00:00<00:00, 281.77it/s]\n"
     ]
    },
    {
     "name": "stdout",
     "output_type": "stream",
     "text": [
      "Epoch: 119     Loss: 0.05478     Training Acc: 0.98489     Validation Acc: 0.96929\n"
     ]
    },
    {
     "name": "stderr",
     "output_type": "stream",
     "text": [
      "Batch: 100%|████████████████████████████████████████████████████████████████████████| 240/240 [00:00<00:00, 283.46it/s]\n"
     ]
    },
    {
     "name": "stdout",
     "output_type": "stream",
     "text": [
      "Epoch: 120     Loss: 0.0544     Training Acc: 0.98489     Validation Acc: 0.96936\n"
     ]
    },
    {
     "name": "stderr",
     "output_type": "stream",
     "text": [
      "Batch: 100%|████████████████████████████████████████████████████████████████████████| 240/240 [00:00<00:00, 266.51it/s]\n"
     ]
    },
    {
     "name": "stdout",
     "output_type": "stream",
     "text": [
      "Epoch: 121     Loss: 0.05401     Training Acc: 0.98523     Validation Acc: 0.96943\n"
     ]
    },
    {
     "name": "stderr",
     "output_type": "stream",
     "text": [
      "Batch: 100%|████████████████████████████████████████████████████████████████████████| 240/240 [00:00<00:00, 277.12it/s]\n"
     ]
    },
    {
     "name": "stdout",
     "output_type": "stream",
     "text": [
      "Epoch: 122     Loss: 0.05363     Training Acc: 0.98523     Validation Acc: 0.9695\n"
     ]
    },
    {
     "name": "stderr",
     "output_type": "stream",
     "text": [
      "Batch: 100%|████████████████████████████████████████████████████████████████████████| 240/240 [00:00<00:00, 284.16it/s]\n"
     ]
    },
    {
     "name": "stdout",
     "output_type": "stream",
     "text": [
      "Epoch: 123     Loss: 0.05321     Training Acc: 0.98531     Validation Acc: 0.96958\n"
     ]
    },
    {
     "name": "stderr",
     "output_type": "stream",
     "text": [
      "Batch: 100%|████████████████████████████████████████████████████████████████████████| 240/240 [00:00<00:00, 286.71it/s]\n"
     ]
    },
    {
     "name": "stdout",
     "output_type": "stream",
     "text": [
      "Epoch: 124     Loss: 0.05284     Training Acc: 0.98531     Validation Acc: 0.96965\n"
     ]
    },
    {
     "name": "stderr",
     "output_type": "stream",
     "text": [
      "Batch: 100%|████████████████████████████████████████████████████████████████████████| 240/240 [00:00<00:00, 286.13it/s]\n"
     ]
    },
    {
     "name": "stdout",
     "output_type": "stream",
     "text": [
      "Epoch: 125     Loss: 0.05246     Training Acc: 0.98548     Validation Acc: 0.96972\n"
     ]
    },
    {
     "name": "stderr",
     "output_type": "stream",
     "text": [
      "Batch: 100%|████████████████████████████████████████████████████████████████████████| 240/240 [00:00<00:00, 282.78it/s]\n"
     ]
    },
    {
     "name": "stdout",
     "output_type": "stream",
     "text": [
      "Epoch: 126     Loss: 0.05203     Training Acc: 0.98556     Validation Acc: 0.9698\n"
     ]
    },
    {
     "name": "stderr",
     "output_type": "stream",
     "text": [
      "Batch: 100%|████████████████████████████████████████████████████████████████████████| 240/240 [00:00<00:00, 270.73it/s]\n"
     ]
    },
    {
     "name": "stdout",
     "output_type": "stream",
     "text": [
      "Epoch: 127     Loss: 0.05167     Training Acc: 0.9859     Validation Acc: 0.96987\n"
     ]
    },
    {
     "name": "stderr",
     "output_type": "stream",
     "text": [
      "Batch: 100%|████████████████████████████████████████████████████████████████████████| 240/240 [00:00<00:00, 263.29it/s]\n"
     ]
    },
    {
     "name": "stdout",
     "output_type": "stream",
     "text": [
      "Epoch: 128     Loss: 0.05132     Training Acc: 0.98573     Validation Acc: 0.96994\n"
     ]
    },
    {
     "name": "stderr",
     "output_type": "stream",
     "text": [
      "Batch: 100%|████████████████████████████████████████████████████████████████████████| 240/240 [00:00<00:00, 263.16it/s]\n"
     ]
    },
    {
     "name": "stdout",
     "output_type": "stream",
     "text": [
      "Epoch: 129     Loss: 0.05092     Training Acc: 0.98573     Validation Acc: 0.97001\n"
     ]
    },
    {
     "name": "stderr",
     "output_type": "stream",
     "text": [
      "Batch: 100%|████████████████████████████████████████████████████████████████████████| 240/240 [00:00<00:00, 280.57it/s]\n"
     ]
    },
    {
     "name": "stdout",
     "output_type": "stream",
     "text": [
      "Epoch: 130     Loss: 0.05057     Training Acc: 0.98606     Validation Acc: 0.97009\n"
     ]
    },
    {
     "name": "stderr",
     "output_type": "stream",
     "text": [
      "Batch: 100%|████████████████████████████████████████████████████████████████████████| 240/240 [00:00<00:00, 276.77it/s]\n"
     ]
    },
    {
     "name": "stdout",
     "output_type": "stream",
     "text": [
      "Epoch: 131     Loss: 0.05023     Training Acc: 0.98598     Validation Acc: 0.97016\n"
     ]
    },
    {
     "name": "stderr",
     "output_type": "stream",
     "text": [
      "Batch: 100%|████████████████████████████████████████████████████████████████████████| 240/240 [00:00<00:00, 280.43it/s]\n"
     ]
    },
    {
     "name": "stdout",
     "output_type": "stream",
     "text": [
      "Epoch: 132     Loss: 0.04983     Training Acc: 0.98623     Validation Acc: 0.97023\n"
     ]
    },
    {
     "name": "stderr",
     "output_type": "stream",
     "text": [
      "Batch: 100%|████████████████████████████████████████████████████████████████████████| 240/240 [00:00<00:00, 284.36it/s]\n"
     ]
    },
    {
     "name": "stdout",
     "output_type": "stream",
     "text": [
      "Epoch: 133     Loss: 0.04948     Training Acc: 0.98606     Validation Acc: 0.9703\n"
     ]
    },
    {
     "name": "stderr",
     "output_type": "stream",
     "text": [
      "Batch: 100%|████████████████████████████████████████████████████████████████████████| 240/240 [00:00<00:00, 288.05it/s]\n"
     ]
    },
    {
     "name": "stdout",
     "output_type": "stream",
     "text": [
      "Epoch: 134     Loss: 0.04895     Training Acc: 0.98623     Validation Acc: 0.97036\n"
     ]
    },
    {
     "name": "stderr",
     "output_type": "stream",
     "text": [
      "Batch: 100%|████████████████████████████████████████████████████████████████████████| 240/240 [00:00<00:00, 285.89it/s]\n"
     ]
    },
    {
     "name": "stdout",
     "output_type": "stream",
     "text": [
      "Epoch: 135     Loss: 0.0488     Training Acc: 0.98631     Validation Acc: 0.97043\n"
     ]
    },
    {
     "name": "stderr",
     "output_type": "stream",
     "text": [
      "Batch: 100%|████████████████████████████████████████████████████████████████████████| 240/240 [00:00<00:00, 281.49it/s]\n"
     ]
    },
    {
     "name": "stdout",
     "output_type": "stream",
     "text": [
      "Epoch: 136     Loss: 0.04839     Training Acc: 0.98648     Validation Acc: 0.97049\n"
     ]
    },
    {
     "name": "stderr",
     "output_type": "stream",
     "text": [
      "Batch: 100%|████████████████████████████████████████████████████████████████████████| 240/240 [00:00<00:00, 272.67it/s]\n"
     ]
    },
    {
     "name": "stdout",
     "output_type": "stream",
     "text": [
      "Epoch: 137     Loss: 0.04806     Training Acc: 0.98656     Validation Acc: 0.97056\n"
     ]
    },
    {
     "name": "stderr",
     "output_type": "stream",
     "text": [
      "Batch: 100%|████████████████████████████████████████████████████████████████████████| 240/240 [00:00<00:00, 273.03it/s]\n"
     ]
    },
    {
     "name": "stdout",
     "output_type": "stream",
     "text": [
      "Epoch: 138     Loss: 0.04767     Training Acc: 0.98673     Validation Acc: 0.97063\n"
     ]
    },
    {
     "name": "stderr",
     "output_type": "stream",
     "text": [
      "Batch: 100%|████████████████████████████████████████████████████████████████████████| 240/240 [00:00<00:00, 271.45it/s]\n"
     ]
    },
    {
     "name": "stdout",
     "output_type": "stream",
     "text": [
      "Epoch: 139     Loss: 0.04727     Training Acc: 0.98698     Validation Acc: 0.9707\n"
     ]
    },
    {
     "name": "stderr",
     "output_type": "stream",
     "text": [
      "Batch: 100%|████████████████████████████████████████████████████████████████████████| 240/240 [00:00<00:00, 285.55it/s]\n"
     ]
    },
    {
     "name": "stdout",
     "output_type": "stream",
     "text": [
      "Epoch: 140     Loss: 0.04702     Training Acc: 0.9869     Validation Acc: 0.97077\n"
     ]
    },
    {
     "name": "stderr",
     "output_type": "stream",
     "text": [
      "Batch: 100%|████████████████████████████████████████████████████████████████████████| 240/240 [00:00<00:00, 284.09it/s]\n"
     ]
    },
    {
     "name": "stdout",
     "output_type": "stream",
     "text": [
      "Epoch: 141     Loss: 0.04667     Training Acc: 0.98706     Validation Acc: 0.97083\n"
     ]
    },
    {
     "name": "stderr",
     "output_type": "stream",
     "text": [
      "Batch: 100%|████████████████████████████████████████████████████████████████████████| 240/240 [00:00<00:00, 277.43it/s]\n"
     ]
    },
    {
     "name": "stdout",
     "output_type": "stream",
     "text": [
      "Epoch: 142     Loss: 0.04635     Training Acc: 0.98723     Validation Acc: 0.9709\n"
     ]
    },
    {
     "name": "stderr",
     "output_type": "stream",
     "text": [
      "Batch: 100%|████████████████████████████████████████████████████████████████████████| 240/240 [00:00<00:00, 284.98it/s]\n"
     ]
    },
    {
     "name": "stdout",
     "output_type": "stream",
     "text": [
      "Epoch: 143     Loss: 0.04602     Training Acc: 0.9874     Validation Acc: 0.97097\n"
     ]
    },
    {
     "name": "stderr",
     "output_type": "stream",
     "text": [
      "Batch: 100%|████████████████████████████████████████████████████████████████████████| 240/240 [00:00<00:00, 282.82it/s]\n"
     ]
    },
    {
     "name": "stdout",
     "output_type": "stream",
     "text": [
      "Epoch: 144     Loss: 0.04569     Training Acc: 0.9874     Validation Acc: 0.97104\n"
     ]
    },
    {
     "name": "stderr",
     "output_type": "stream",
     "text": [
      "Batch: 100%|████████████████████████████████████████████████████████████████████████| 240/240 [00:00<00:00, 278.99it/s]\n"
     ]
    },
    {
     "name": "stdout",
     "output_type": "stream",
     "text": [
      "Epoch: 145     Loss: 0.04533     Training Acc: 0.9874     Validation Acc: 0.97111\n"
     ]
    },
    {
     "name": "stderr",
     "output_type": "stream",
     "text": [
      "Batch: 100%|████████████████████████████████████████████████████████████████████████| 240/240 [00:00<00:00, 270.74it/s]\n"
     ]
    },
    {
     "name": "stdout",
     "output_type": "stream",
     "text": [
      "Epoch: 146     Loss: 0.04498     Training Acc: 0.9879     Validation Acc: 0.97118\n"
     ]
    },
    {
     "name": "stderr",
     "output_type": "stream",
     "text": [
      "Batch: 100%|████████████████████████████████████████████████████████████████████████| 240/240 [00:00<00:00, 267.87it/s]\n"
     ]
    },
    {
     "name": "stdout",
     "output_type": "stream",
     "text": [
      "Epoch: 147     Loss: 0.04458     Training Acc: 0.98765     Validation Acc: 0.97125\n"
     ]
    },
    {
     "name": "stderr",
     "output_type": "stream",
     "text": [
      "Batch: 100%|████████████████████████████████████████████████████████████████████████| 240/240 [00:00<00:00, 277.17it/s]\n"
     ]
    },
    {
     "name": "stdout",
     "output_type": "stream",
     "text": [
      "Epoch: 148     Loss: 0.04433     Training Acc: 0.9879     Validation Acc: 0.97131\n"
     ]
    },
    {
     "name": "stderr",
     "output_type": "stream",
     "text": [
      "Batch: 100%|████████████████████████████████████████████████████████████████████████| 240/240 [00:00<00:00, 264.21it/s]\n"
     ]
    },
    {
     "name": "stdout",
     "output_type": "stream",
     "text": [
      "Epoch: 149     Loss: 0.04402     Training Acc: 0.9879     Validation Acc: 0.97137\n"
     ]
    },
    {
     "name": "stderr",
     "output_type": "stream",
     "text": [
      "Batch: 100%|████████████████████████████████████████████████████████████████████████| 240/240 [00:00<00:00, 251.70it/s]\n"
     ]
    },
    {
     "name": "stdout",
     "output_type": "stream",
     "text": [
      "Epoch: 150     Loss: 0.04369     Training Acc: 0.98798     Validation Acc: 0.97144\n"
     ]
    },
    {
     "name": "stderr",
     "output_type": "stream",
     "text": [
      "Batch: 100%|████████████████████████████████████████████████████████████████████████| 240/240 [00:00<00:00, 266.68it/s]\n"
     ]
    },
    {
     "name": "stdout",
     "output_type": "stream",
     "text": [
      "Epoch: 151     Loss: 0.04338     Training Acc: 0.98807     Validation Acc: 0.97151\n"
     ]
    },
    {
     "name": "stderr",
     "output_type": "stream",
     "text": [
      "Batch: 100%|████████████████████████████████████████████████████████████████████████| 240/240 [00:00<00:00, 254.45it/s]\n"
     ]
    },
    {
     "name": "stdout",
     "output_type": "stream",
     "text": [
      "Epoch: 152     Loss: 0.04305     Training Acc: 0.98807     Validation Acc: 0.97157\n"
     ]
    },
    {
     "name": "stderr",
     "output_type": "stream",
     "text": [
      "Batch: 100%|████████████████████████████████████████████████████████████████████████| 240/240 [00:00<00:00, 277.63it/s]\n"
     ]
    },
    {
     "name": "stdout",
     "output_type": "stream",
     "text": [
      "Epoch: 153     Loss: 0.04273     Training Acc: 0.9884     Validation Acc: 0.97163\n"
     ]
    },
    {
     "name": "stderr",
     "output_type": "stream",
     "text": [
      "Batch: 100%|████████████████████████████████████████████████████████████████████████| 240/240 [00:00<00:00, 275.24it/s]\n"
     ]
    },
    {
     "name": "stdout",
     "output_type": "stream",
     "text": [
      "Epoch: 154     Loss: 0.04245     Training Acc: 0.9884     Validation Acc: 0.9717\n"
     ]
    },
    {
     "name": "stderr",
     "output_type": "stream",
     "text": [
      "Batch: 100%|████████████████████████████████████████████████████████████████████████| 240/240 [00:00<00:00, 267.55it/s]\n"
     ]
    },
    {
     "name": "stdout",
     "output_type": "stream",
     "text": [
      "Epoch: 155     Loss: 0.04207     Training Acc: 0.98848     Validation Acc: 0.97176\n"
     ]
    },
    {
     "name": "stderr",
     "output_type": "stream",
     "text": [
      "Batch: 100%|████████████████████████████████████████████████████████████████████████| 240/240 [00:00<00:00, 272.20it/s]\n"
     ]
    },
    {
     "name": "stdout",
     "output_type": "stream",
     "text": [
      "Epoch: 156     Loss: 0.04181     Training Acc: 0.98848     Validation Acc: 0.97182\n"
     ]
    },
    {
     "name": "stderr",
     "output_type": "stream",
     "text": [
      "Batch: 100%|████████████████████████████████████████████████████████████████████████| 240/240 [00:00<00:00, 270.54it/s]\n"
     ]
    },
    {
     "name": "stdout",
     "output_type": "stream",
     "text": [
      "Epoch: 157     Loss: 0.04149     Training Acc: 0.98857     Validation Acc: 0.97188\n"
     ]
    },
    {
     "name": "stderr",
     "output_type": "stream",
     "text": [
      "Batch: 100%|████████████████████████████████████████████████████████████████████████| 240/240 [00:00<00:00, 282.30it/s]\n"
     ]
    },
    {
     "name": "stdout",
     "output_type": "stream",
     "text": [
      "Epoch: 158     Loss: 0.04117     Training Acc: 0.98882     Validation Acc: 0.97194\n"
     ]
    },
    {
     "name": "stderr",
     "output_type": "stream",
     "text": [
      "Batch: 100%|████████████████████████████████████████████████████████████████████████| 240/240 [00:00<00:00, 286.42it/s]\n"
     ]
    },
    {
     "name": "stdout",
     "output_type": "stream",
     "text": [
      "Epoch: 159     Loss: 0.04085     Training Acc: 0.9889     Validation Acc: 0.972\n"
     ]
    },
    {
     "name": "stderr",
     "output_type": "stream",
     "text": [
      "Batch: 100%|████████████████████████████████████████████████████████████████████████| 240/240 [00:00<00:00, 283.74it/s]\n"
     ]
    },
    {
     "name": "stdout",
     "output_type": "stream",
     "text": [
      "Epoch: 160     Loss: 0.04054     Training Acc: 0.9894     Validation Acc: 0.97206\n"
     ]
    },
    {
     "name": "stderr",
     "output_type": "stream",
     "text": [
      "Batch: 100%|████████████████████████████████████████████████████████████████████████| 240/240 [00:00<00:00, 283.26it/s]\n"
     ]
    },
    {
     "name": "stdout",
     "output_type": "stream",
     "text": [
      "Epoch: 161     Loss: 0.04026     Training Acc: 0.98865     Validation Acc: 0.97212\n"
     ]
    },
    {
     "name": "stderr",
     "output_type": "stream",
     "text": [
      "Batch: 100%|████████████████████████████████████████████████████████████████████████| 240/240 [00:00<00:00, 281.39it/s]\n"
     ]
    },
    {
     "name": "stdout",
     "output_type": "stream",
     "text": [
      "Epoch: 162     Loss: 0.03994     Training Acc: 0.9889     Validation Acc: 0.97217\n"
     ]
    },
    {
     "name": "stderr",
     "output_type": "stream",
     "text": [
      "Batch: 100%|████████████████████████████████████████████████████████████████████████| 240/240 [00:00<00:00, 247.43it/s]\n"
     ]
    },
    {
     "name": "stdout",
     "output_type": "stream",
     "text": [
      "Epoch: 163     Loss: 0.03964     Training Acc: 0.98898     Validation Acc: 0.97223\n"
     ]
    },
    {
     "name": "stderr",
     "output_type": "stream",
     "text": [
      "Batch: 100%|████████████████████████████████████████████████████████████████████████| 240/240 [00:00<00:00, 255.59it/s]\n"
     ]
    },
    {
     "name": "stdout",
     "output_type": "stream",
     "text": [
      "Epoch: 164     Loss: 0.03939     Training Acc: 0.98898     Validation Acc: 0.97228\n"
     ]
    },
    {
     "name": "stderr",
     "output_type": "stream",
     "text": [
      "Batch: 100%|████████████████████████████████████████████████████████████████████████| 240/240 [00:00<00:00, 280.73it/s]\n"
     ]
    },
    {
     "name": "stdout",
     "output_type": "stream",
     "text": [
      "Epoch: 165     Loss: 0.03909     Training Acc: 0.98923     Validation Acc: 0.97234\n"
     ]
    },
    {
     "name": "stderr",
     "output_type": "stream",
     "text": [
      "Batch: 100%|████████████████████████████████████████████████████████████████████████| 240/240 [00:00<00:00, 252.88it/s]\n"
     ]
    },
    {
     "name": "stdout",
     "output_type": "stream",
     "text": [
      "Epoch: 166     Loss: 0.03881     Training Acc: 0.9894     Validation Acc: 0.9724\n"
     ]
    },
    {
     "name": "stderr",
     "output_type": "stream",
     "text": [
      "Batch: 100%|████████████████████████████████████████████████████████████████████████| 240/240 [00:00<00:00, 256.15it/s]\n"
     ]
    },
    {
     "name": "stdout",
     "output_type": "stream",
     "text": [
      "Epoch: 167     Loss: 0.03847     Training Acc: 0.98957     Validation Acc: 0.97246\n"
     ]
    },
    {
     "name": "stderr",
     "output_type": "stream",
     "text": [
      "Batch: 100%|████████████████████████████████████████████████████████████████████████| 240/240 [00:00<00:00, 268.83it/s]\n"
     ]
    },
    {
     "name": "stdout",
     "output_type": "stream",
     "text": [
      "Epoch: 168     Loss: 0.03825     Training Acc: 0.98948     Validation Acc: 0.97251\n"
     ]
    },
    {
     "name": "stderr",
     "output_type": "stream",
     "text": [
      "Batch: 100%|████████████████████████████████████████████████████████████████████████| 240/240 [00:00<00:00, 279.82it/s]\n"
     ]
    },
    {
     "name": "stdout",
     "output_type": "stream",
     "text": [
      "Epoch: 169     Loss: 0.03793     Training Acc: 0.98932     Validation Acc: 0.97256\n"
     ]
    },
    {
     "name": "stderr",
     "output_type": "stream",
     "text": [
      "Batch: 100%|████████████████████████████████████████████████████████████████████████| 240/240 [00:00<00:00, 284.84it/s]\n"
     ]
    },
    {
     "name": "stdout",
     "output_type": "stream",
     "text": [
      "Epoch: 170     Loss: 0.03764     Training Acc: 0.98948     Validation Acc: 0.97261\n"
     ]
    },
    {
     "name": "stderr",
     "output_type": "stream",
     "text": [
      "Batch: 100%|████████████████████████████████████████████████████████████████████████| 240/240 [00:00<00:00, 277.46it/s]\n"
     ]
    },
    {
     "name": "stdout",
     "output_type": "stream",
     "text": [
      "Epoch: 171     Loss: 0.03735     Training Acc: 0.98948     Validation Acc: 0.97267\n"
     ]
    },
    {
     "name": "stderr",
     "output_type": "stream",
     "text": [
      "Batch: 100%|████████████████████████████████████████████████████████████████████████| 240/240 [00:00<00:00, 242.04it/s]\n"
     ]
    },
    {
     "name": "stdout",
     "output_type": "stream",
     "text": [
      "Epoch: 172     Loss: 0.03712     Training Acc: 0.98982     Validation Acc: 0.97272\n"
     ]
    },
    {
     "name": "stderr",
     "output_type": "stream",
     "text": [
      "Batch: 100%|████████████████████████████████████████████████████████████████████████| 240/240 [00:00<00:00, 249.73it/s]\n"
     ]
    },
    {
     "name": "stdout",
     "output_type": "stream",
     "text": [
      "Epoch: 173     Loss: 0.03681     Training Acc: 0.98982     Validation Acc: 0.97278\n"
     ]
    },
    {
     "name": "stderr",
     "output_type": "stream",
     "text": [
      "Batch: 100%|████████████████████████████████████████████████████████████████████████| 240/240 [00:00<00:00, 281.86it/s]\n"
     ]
    },
    {
     "name": "stdout",
     "output_type": "stream",
     "text": [
      "Epoch: 174     Loss: 0.03648     Training Acc: 0.98982     Validation Acc: 0.97283\n"
     ]
    },
    {
     "name": "stderr",
     "output_type": "stream",
     "text": [
      "Batch: 100%|████████████████████████████████████████████████████████████████████████| 240/240 [00:00<00:00, 283.94it/s]\n"
     ]
    },
    {
     "name": "stdout",
     "output_type": "stream",
     "text": [
      "Epoch: 175     Loss: 0.03623     Training Acc: 0.98982     Validation Acc: 0.97289\n"
     ]
    },
    {
     "name": "stderr",
     "output_type": "stream",
     "text": [
      "Batch: 100%|████████████████████████████████████████████████████████████████████████| 240/240 [00:00<00:00, 282.61it/s]\n"
     ]
    },
    {
     "name": "stdout",
     "output_type": "stream",
     "text": [
      "Epoch: 176     Loss: 0.03604     Training Acc: 0.98998     Validation Acc: 0.97294\n"
     ]
    },
    {
     "name": "stderr",
     "output_type": "stream",
     "text": [
      "Batch: 100%|████████████████████████████████████████████████████████████████████████| 240/240 [00:00<00:00, 286.07it/s]\n"
     ]
    },
    {
     "name": "stdout",
     "output_type": "stream",
     "text": [
      "Epoch: 177     Loss: 0.03568     Training Acc: 0.98998     Validation Acc: 0.97299\n"
     ]
    },
    {
     "name": "stderr",
     "output_type": "stream",
     "text": [
      "Batch: 100%|████████████████████████████████████████████████████████████████████████| 240/240 [00:00<00:00, 281.28it/s]\n"
     ]
    },
    {
     "name": "stdout",
     "output_type": "stream",
     "text": [
      "Epoch: 178     Loss: 0.03543     Training Acc: 0.99015     Validation Acc: 0.97304\n"
     ]
    },
    {
     "name": "stderr",
     "output_type": "stream",
     "text": [
      "Batch: 100%|████████████████████████████████████████████████████████████████████████| 240/240 [00:00<00:00, 283.60it/s]\n"
     ]
    },
    {
     "name": "stdout",
     "output_type": "stream",
     "text": [
      "Epoch: 179     Loss: 0.03515     Training Acc: 0.99049     Validation Acc: 0.9731\n"
     ]
    },
    {
     "name": "stderr",
     "output_type": "stream",
     "text": [
      "Batch: 100%|████████████████████████████████████████████████████████████████████████| 240/240 [00:00<00:00, 287.04it/s]\n"
     ]
    },
    {
     "name": "stdout",
     "output_type": "stream",
     "text": [
      "Epoch: 180     Loss: 0.03498     Training Acc: 0.99032     Validation Acc: 0.97314\n"
     ]
    },
    {
     "name": "stderr",
     "output_type": "stream",
     "text": [
      "Batch: 100%|████████████████████████████████████████████████████████████████████████| 240/240 [00:00<00:00, 285.92it/s]\n"
     ]
    },
    {
     "name": "stdout",
     "output_type": "stream",
     "text": [
      "Epoch: 181     Loss: 0.03466     Training Acc: 0.9904     Validation Acc: 0.97319\n"
     ]
    },
    {
     "name": "stderr",
     "output_type": "stream",
     "text": [
      "Batch: 100%|████████████████████████████████████████████████████████████████████████| 240/240 [00:00<00:00, 285.92it/s]\n"
     ]
    },
    {
     "name": "stdout",
     "output_type": "stream",
     "text": [
      "Epoch: 182     Loss: 0.03441     Training Acc: 0.99057     Validation Acc: 0.97325\n"
     ]
    },
    {
     "name": "stderr",
     "output_type": "stream",
     "text": [
      "Batch: 100%|████████████████████████████████████████████████████████████████████████| 240/240 [00:00<00:00, 287.31it/s]\n"
     ]
    },
    {
     "name": "stdout",
     "output_type": "stream",
     "text": [
      "Epoch: 183     Loss: 0.03414     Training Acc: 0.99099     Validation Acc: 0.9733\n"
     ]
    },
    {
     "name": "stderr",
     "output_type": "stream",
     "text": [
      "Batch: 100%|████████████████████████████████████████████████████████████████████████| 240/240 [00:00<00:00, 285.10it/s]\n"
     ]
    },
    {
     "name": "stdout",
     "output_type": "stream",
     "text": [
      "Epoch: 184     Loss: 0.03392     Training Acc: 0.99082     Validation Acc: 0.97335\n"
     ]
    },
    {
     "name": "stderr",
     "output_type": "stream",
     "text": [
      "Batch: 100%|████████████████████████████████████████████████████████████████████████| 240/240 [00:00<00:00, 294.34it/s]\n"
     ]
    },
    {
     "name": "stdout",
     "output_type": "stream",
     "text": [
      "Epoch: 185     Loss: 0.03366     Training Acc: 0.99132     Validation Acc: 0.97341\n"
     ]
    },
    {
     "name": "stderr",
     "output_type": "stream",
     "text": [
      "Batch: 100%|████████████████████████████████████████████████████████████████████████| 240/240 [00:00<00:00, 279.57it/s]\n"
     ]
    },
    {
     "name": "stdout",
     "output_type": "stream",
     "text": [
      "Epoch: 186     Loss: 0.03338     Training Acc: 0.99115     Validation Acc: 0.97346\n"
     ]
    },
    {
     "name": "stderr",
     "output_type": "stream",
     "text": [
      "Batch: 100%|████████████████████████████████████████████████████████████████████████| 240/240 [00:00<00:00, 285.23it/s]\n"
     ]
    },
    {
     "name": "stdout",
     "output_type": "stream",
     "text": [
      "Epoch: 187     Loss: 0.03316     Training Acc: 0.99099     Validation Acc: 0.97352\n"
     ]
    },
    {
     "name": "stderr",
     "output_type": "stream",
     "text": [
      "Batch: 100%|████████████████████████████████████████████████████████████████████████| 240/240 [00:00<00:00, 284.12it/s]\n"
     ]
    },
    {
     "name": "stdout",
     "output_type": "stream",
     "text": [
      "Epoch: 188     Loss: 0.03292     Training Acc: 0.99124     Validation Acc: 0.97357\n"
     ]
    },
    {
     "name": "stderr",
     "output_type": "stream",
     "text": [
      "Batch: 100%|████████████████████████████████████████████████████████████████████████| 240/240 [00:00<00:00, 284.33it/s]\n"
     ]
    },
    {
     "name": "stdout",
     "output_type": "stream",
     "text": [
      "Epoch: 189     Loss: 0.03266     Training Acc: 0.9909     Validation Acc: 0.97363\n"
     ]
    },
    {
     "name": "stderr",
     "output_type": "stream",
     "text": [
      "Batch: 100%|████████████████████████████████████████████████████████████████████████| 240/240 [00:00<00:00, 263.52it/s]\n"
     ]
    },
    {
     "name": "stdout",
     "output_type": "stream",
     "text": [
      "Epoch: 190     Loss: 0.03237     Training Acc: 0.99132     Validation Acc: 0.97368\n"
     ]
    },
    {
     "name": "stderr",
     "output_type": "stream",
     "text": [
      "Batch: 100%|████████████████████████████████████████████████████████████████████████| 240/240 [00:00<00:00, 276.46it/s]\n"
     ]
    },
    {
     "name": "stdout",
     "output_type": "stream",
     "text": [
      "Epoch: 191     Loss: 0.03216     Training Acc: 0.99132     Validation Acc: 0.97374\n"
     ]
    },
    {
     "name": "stderr",
     "output_type": "stream",
     "text": [
      "Batch: 100%|████████████████████████████████████████████████████████████████████████| 240/240 [00:00<00:00, 259.59it/s]\n"
     ]
    },
    {
     "name": "stdout",
     "output_type": "stream",
     "text": [
      "Epoch: 192     Loss: 0.03192     Training Acc: 0.9914     Validation Acc: 0.9738\n"
     ]
    },
    {
     "name": "stderr",
     "output_type": "stream",
     "text": [
      "Batch: 100%|████████████████████████████████████████████████████████████████████████| 240/240 [00:00<00:00, 247.77it/s]\n"
     ]
    },
    {
     "name": "stdout",
     "output_type": "stream",
     "text": [
      "Epoch: 193     Loss: 0.0317     Training Acc: 0.99157     Validation Acc: 0.97385\n"
     ]
    },
    {
     "name": "stderr",
     "output_type": "stream",
     "text": [
      "Batch: 100%|████████████████████████████████████████████████████████████████████████| 240/240 [00:00<00:00, 256.13it/s]\n"
     ]
    },
    {
     "name": "stdout",
     "output_type": "stream",
     "text": [
      "Epoch: 194     Loss: 0.03142     Training Acc: 0.99182     Validation Acc: 0.97391\n"
     ]
    },
    {
     "name": "stderr",
     "output_type": "stream",
     "text": [
      "Batch: 100%|████████████████████████████████████████████████████████████████████████| 240/240 [00:00<00:00, 277.72it/s]\n"
     ]
    },
    {
     "name": "stdout",
     "output_type": "stream",
     "text": [
      "Epoch: 195     Loss: 0.03118     Training Acc: 0.9919     Validation Acc: 0.97396\n"
     ]
    },
    {
     "name": "stderr",
     "output_type": "stream",
     "text": [
      "Batch: 100%|████████████████████████████████████████████████████████████████████████| 240/240 [00:00<00:00, 286.41it/s]\n"
     ]
    },
    {
     "name": "stdout",
     "output_type": "stream",
     "text": [
      "Epoch: 196     Loss: 0.03095     Training Acc: 0.99182     Validation Acc: 0.97402\n"
     ]
    },
    {
     "name": "stderr",
     "output_type": "stream",
     "text": [
      "Batch: 100%|████████████████████████████████████████████████████████████████████████| 240/240 [00:00<00:00, 279.64it/s]\n"
     ]
    },
    {
     "name": "stdout",
     "output_type": "stream",
     "text": [
      "Epoch: 197     Loss: 0.03071     Training Acc: 0.99174     Validation Acc: 0.97407\n"
     ]
    },
    {
     "name": "stderr",
     "output_type": "stream",
     "text": [
      "Batch: 100%|████████████████████████████████████████████████████████████████████████| 240/240 [00:00<00:00, 279.57it/s]\n"
     ]
    },
    {
     "name": "stdout",
     "output_type": "stream",
     "text": [
      "Epoch: 198     Loss: 0.03051     Training Acc: 0.9919     Validation Acc: 0.97413\n"
     ]
    },
    {
     "name": "stderr",
     "output_type": "stream",
     "text": [
      "Batch: 100%|████████████████████████████████████████████████████████████████████████| 240/240 [00:00<00:00, 266.92it/s]\n"
     ]
    },
    {
     "name": "stdout",
     "output_type": "stream",
     "text": [
      "Epoch: 199     Loss: 0.03022     Training Acc: 0.99199     Validation Acc: 0.97418\n"
     ]
    },
    {
     "data": {
      "text/plain": [
       "0.004273291140054447"
      ]
     },
     "execution_count": 23,
     "metadata": {},
     "output_type": "execute_result"
    }
   ],
   "source": [
    "learner.train_loop(train_dl, X_test, y_test)"
   ]
  },
  {
   "cell_type": "markdown",
   "metadata": {},
   "source": [
    "Now that the training has completed, let's take a look at how our model performed."
   ]
  },
  {
   "cell_type": "code",
   "execution_count": 25,
   "metadata": {},
   "outputs": [
    {
     "data": {
      "image/png": "[encoded data removed]",
      "text/plain": [
       "<Figure size 1008x504 with 1 Axes>"
      ]
     },
     "metadata": {
      "needs_background": "light"
     },
     "output_type": "display_data"
    }
   ],
   "source": [
    "plt.figure(figsize=(14,7))\n",
    "plt.plot(acc.accuracies, label = \"Training Accuracy\", linewidth = \"3\")\n",
    "plt.plot(acc.test_accuracies, label = \"Validation Accuracy\", linewidth = \"3\")\n",
    "plt.legend(loc='upper left')\n",
    "plt.grid('both', alpha = 0.95, linestyle=\"--\")\n",
    "plt.title(\"Training Accuracy vs. Validation Accuracy\");"
   ]
  },
  {
   "cell_type": "markdown",
   "metadata": {},
   "source": [
    "Not too bad! \n",
    "\n",
    "Usually when the epochs progress, if the training accuracy and validation accuracy differ widely and move away from each other, then it is a sign of *overfitting*.\n",
    "\n",
    "In our case, there is a small \"moving away\" happening. But since it is not so singificant, we are allowed to call it a good performance. \n",
    "\n",
    "The intuition behind validation accuracy and training accuracy is that if your model ends up learning *too* well, then it wouldn't be able to generalize for any new data it sees. This is ,in fact, what we call overfitting."
   ]
  },
  {
   "cell_type": "code",
   "execution_count": 26,
   "metadata": {
    "scrolled": true
   },
   "outputs": [
    {
     "data": {
      "image/png": "[encoded data removed]",
      "text/plain": [
       "<Figure size 1008x504 with 1 Axes>"
      ]
     },
     "metadata": {
      "needs_background": "light"
     },
     "output_type": "display_data"
    }
   ],
   "source": [
    "plt.figure(figsize=(14,7))\n",
    "plt.plot(acc.losses, linewidth = \"3\", color = \"b\")\n",
    "plt.grid('both', alpha = 0.95, linestyle=\"--\")\n",
    "plt.title(\"Losses over Epochs\");"
   ]
  },
  {
   "cell_type": "markdown",
   "metadata": {},
   "source": [
    "The graph above is the loss we see over the epochs. Clearly, the model is learning to approach the global minima through gradient descent. \n",
    "\n",
    "(although it is important to note that we may not have reached it completely) "
   ]
  },
  {
   "cell_type": "code",
   "execution_count": 27,
   "metadata": {},
   "outputs": [
    {
     "data": {
      "image/png": "[encoded data removed]",
      "text/plain": [
       "<Figure size 1008x504 with 1 Axes>"
      ]
     },
     "metadata": {
      "needs_background": "light"
     },
     "output_type": "display_data"
    }
   ],
   "source": [
    "plt.figure(figsize=(14,7))\n",
    "plt.plot(acc.batch_losses, color = \"r\")\n",
    "plt.grid('both', alpha = 0.95, linestyle=\"--\")\n",
    "plt.title(\"Batch Losses over Epochs\");"
   ]
  },
  {
   "cell_type": "markdown",
   "metadata": {},
   "source": [
    "### 4. Plot the results\n",
    "\n",
    "Our accuracy is 99.2%. Nice!\n",
    "\n",
    "In order to see this more clearly, tn the embedding space ( the inputs of the \"logistic regression\") I am now plotting the data points by running them forward through the network. \n",
    "\n",
    "By coloring coding them with their actual class and plotting the probability contours (these will all be lines in the embedding space as from here on, this is a logistic regression), we can bettersee the points stranded on the \"wrong\" side of the probability 1/2 line. \n",
    "\n",
    "I have also plotted the predictions against the actual values showing where they are in the embedding space.\n",
    "\n",
    "I have also tried doing a 3D plot to see the Sigma shape of the logistics working. (X - first output from the affine layer; Y- second output from the affine layer; Z - the probability of the X,Y data)"
   ]
  },
  {
   "cell_type": "code",
   "execution_count": 28,
   "metadata": {},
   "outputs": [],
   "source": [
    "actual_inputs = np.concatenate((X_train, X_test))\n",
    "actual_outputs = np.concatenate((y_train, y_test))\n",
    "predicted_outputs =  1*(model(actual_inputs) >= 0.5)"
   ]
  },
  {
   "cell_type": "code",
   "execution_count": 29,
   "metadata": {},
   "outputs": [
    {
     "data": {
      "text/plain": [
       "0.9910496921094085"
      ]
     },
     "execution_count": 29,
     "metadata": {},
     "output_type": "execute_result"
    }
   ],
   "source": [
    "np.mean(actual_outputs == predicted_outputs)"
   ]
  },
  {
   "cell_type": "code",
   "execution_count": 30,
   "metadata": {},
   "outputs": [],
   "source": [
    "#hide\n",
    "\n",
    "#getting the last two layers for plotting\n",
    "prob_layer = [Affine(\"output\", 2, 1), Sigmoid(\"sigmoid\")]\n",
    "prob_model = Model(prob_layer)\n",
    "prob_model.layers[0].params['w'] = model.layers[5].params['w']\n",
    "prob_model.layers[0].params['b'] = model.layers[5].params['b']"
   ]
  },
  {
   "cell_type": "code",
   "execution_count": 31,
   "metadata": {},
   "outputs": [],
   "source": [
    "#hide\n",
    "\n",
    "#getting the layers upto the affine layer for plotting\n",
    "visualize_layers = [Affine(\"first\", 784, 100), Relu(\"relu\"), Affine(\"second\", 100, 100), Relu(\"relu\"), Affine(\"third\", 100, 2)]\n",
    "visualize_model = Model(visualize_layers)"
   ]
  },
  {
   "cell_type": "code",
   "execution_count": 32,
   "metadata": {},
   "outputs": [],
   "source": [
    "#hide\n",
    "visualize_model.layers[0].params['w'] = model.layers[0].params['w']\n",
    "visualize_model.layers[0].params['b'] = model.layers[0].params['b']\n",
    "visualize_model.layers[2].params['w'] = model.layers[2].params['w']\n",
    "visualize_model.layers[2].params['b'] = model.layers[0].params['b']\n",
    "visualize_model.layers[4].params['w'] = model.layers[4].params['w']\n",
    "visualize_model.layers[4].params['b'] = model.layers[4].params['b']"
   ]
  },
  {
   "cell_type": "code",
   "execution_count": 33,
   "metadata": {},
   "outputs": [],
   "source": [
    "#hide\n",
    "visualization_points_3 = visualize_model(data_3)\n",
    "model_points_3 = model(data_3)\n",
    "\n",
    "visualization_points_8 = visualize_model(data_8)\n",
    "model_points_8 = model(data_8)"
   ]
  },
  {
   "cell_type": "code",
   "execution_count": 34,
   "metadata": {},
   "outputs": [],
   "source": [
    "visualize_model_1 = Model(layers[:-2])\n",
    "plot_testing = visualize_model_1(X_test)"
   ]
  },
  {
   "cell_type": "code",
   "execution_count": 37,
   "metadata": {
    "scrolled": true
   },
   "outputs": [
    {
     "data": {
      "image/png": "[encoded data removed]",
      "text/plain": [
       "<Figure size 1008x504 with 1 Axes>"
      ]
     },
     "metadata": {
      "needs_background": "light"
     },
     "output_type": "display_data"
    }
   ],
   "source": [
    "plt.figure(figsize=(14,7))\n",
    "plt.scatter(plot_testing[:,0], plot_testing[:,1], c = y_test.ravel());\n",
    "plt.title(\"Visualization of the two classes of data in 2D space\");"
   ]
  },
  {
   "cell_type": "code",
   "execution_count": 38,
   "metadata": {},
   "outputs": [],
   "source": [
    "#this would be our probability layer (last two layers)\n",
    "model_prob = Model(layers[-2:])"
   ]
  },
  {
   "cell_type": "code",
   "execution_count": 39,
   "metadata": {},
   "outputs": [],
   "source": [
    "xgrid = np.linspace(-4, 1, 100) \n",
    "ygrid = np.linspace(-7.5, 7.5, 100) \n",
    "xg, yg = np.meshgrid(xgrid, ygrid)\n",
    "# xg and yg are now both 100X100 -> we need to conver them to single arrays \n",
    "\n",
    "xg_interim = np.ravel(xg)\n",
    "yg_interim = np.ravel(yg)\n",
    "\n",
    "# xg_interim, yg_interim are now arrays of len 10000, now we will stack them and then transpose to get desired shape of n rows, 2 columns\n",
    "\n",
    "X_interim = np.vstack((xg_interim, yg_interim)) \n",
    "X = X_interim.T\n",
    "\n",
    "# We want a shape of n rows and 2 columns in order to be able to feed this to last affine\n",
    "# This last affine takes only two columns, hence the above transformation\n",
    "probability_contour = model_prob(X).reshape(100,100) "
   ]
  },
  {
   "cell_type": "code",
   "execution_count": 41,
   "metadata": {
    "scrolled": true
   },
   "outputs": [
    {
     "data": {
      "image/png": "[encoded data removed]",
      "text/plain": [
       "<Figure size 1008x504 with 1 Axes>"
      ]
     },
     "metadata": {
      "needs_background": "light"
     },
     "output_type": "display_data"
    }
   ],
   "source": [
    "plt.figure(figsize=(14,7))\n",
    "plt.scatter(plot_testing[:,0], plot_testing[:,1], c = y_test.ravel())\n",
    "contours = plt.contour(xg,yg,probability_contour)\n",
    "plt.clabel(contours, inline = True );\n",
    "plt.title(\"Probability Contour that distinguishes one data class from the other\");"
   ]
  },
  {
   "cell_type": "code",
   "execution_count": 51,
   "metadata": {},
   "outputs": [
    {
     "data": {
      "image/png": "[encoded data removed]",
      "text/plain": [
       "<Figure size 1080x720 with 1 Axes>"
      ]
     },
     "metadata": {
      "needs_background": "light"
     },
     "output_type": "display_data"
    }
   ],
   "source": [
    "import numpy as np\n",
    "from mpl_toolkits.mplot3d import Axes3D\n",
    "import pandas as pd\n",
    "import matplotlib.pyplot as plt\n",
    "import scipy\n",
    "import math\n",
    "from matplotlib import cm\n",
    "\n",
    "xx, yy = np.mgrid[-5:5:.01, -5:5:.01]\n",
    "grid = np.c_[xx.ravel(), yy.ravel()]\n",
    "probs = prob_model(grid)\n",
    "\n",
    "\n",
    "#contour = ax.contourf(xx, yy, probs, 25, cmap=\"RdBu\", vmin=0, vmax=1)\n",
    "\n",
    "fig = plt.figure(figsize=(15, 10))\n",
    "ax = plt.axes(projection='3d')\n",
    "ax.scatter(model_points_3, visualization_points_3.T[0], visualization_points_3.T[1],linewidth=0, c='r')\n",
    "ax.scatter(model_points_8, visualization_points_8.T[0], visualization_points_8.T[1],linewidth=0, c='b')\n",
    "plt.title(\"3D overview of Input data  wrt to its Sigma value\");\n",
    "#ax.plot_surface(xx, yy, z, alpha=0.2)\n",
    "#ax.view_init(elev=90, azim=75)"
   ]
  },
  {
   "cell_type": "markdown",
   "metadata": {},
   "source": [
    "Super cool! "
   ]
  },
  {
   "cell_type": "markdown",
   "metadata": {},
   "source": [
    "Let's now do a simpple Logistic Regression Model and compare it with the Neural Network we had constructed. \n",
    "\n",
    "It would be pretty interesting to see the difference in outcomes. "
   ]
  },
  {
   "cell_type": "code",
   "execution_count": 60,
   "metadata": {
    "scrolled": true
   },
   "outputs": [
    {
     "name": "stderr",
     "output_type": "stream",
     "text": [
      "Batch: 100%|███████████████████████████████████████████████████████████████████████| 240/240 [00:00<00:00, 1020.50it/s]\n"
     ]
    },
    {
     "name": "stdout",
     "output_type": "stream",
     "text": [
      "Epoch: 0     Loss: 0.58998     Training Acc: 0.76214     Validation Acc: 0.86442\n"
     ]
    },
    {
     "name": "stderr",
     "output_type": "stream",
     "text": [
      "Batch: 100%|███████████████████████████████████████████████████████████████████████| 240/240 [00:00<00:00, 1007.41it/s]\n"
     ]
    },
    {
     "name": "stdout",
     "output_type": "stream",
     "text": [
      "Epoch: 1     Loss: 0.48206     Training Acc: 0.89059     Validation Acc: 0.88962\n"
     ]
    },
    {
     "name": "stderr",
     "output_type": "stream",
     "text": [
      "Batch: 100%|████████████████████████████████████████████████████████████████████████| 240/240 [00:00<00:00, 924.46it/s]\n"
     ]
    },
    {
     "name": "stdout",
     "output_type": "stream",
     "text": [
      "Epoch: 2     Loss: 0.41743     Training Acc: 0.91003     Validation Acc: 0.90155\n"
     ]
    },
    {
     "name": "stderr",
     "output_type": "stream",
     "text": [
      "Batch: 100%|████████████████████████████████████████████████████████████████████████| 240/240 [00:00<00:00, 940.08it/s]\n"
     ]
    },
    {
     "name": "stdout",
     "output_type": "stream",
     "text": [
      "Epoch: 3     Loss: 0.37494     Training Acc: 0.91604     Validation Acc: 0.90927\n"
     ]
    },
    {
     "name": "stderr",
     "output_type": "stream",
     "text": [
      "Batch: 100%|████████████████████████████████████████████████████████████████████████| 240/240 [00:00<00:00, 836.33it/s]\n"
     ]
    },
    {
     "name": "stdout",
     "output_type": "stream",
     "text": [
      "Epoch: 4     Loss: 0.34478     Training Acc: 0.91971     Validation Acc: 0.91431\n"
     ]
    },
    {
     "name": "stderr",
     "output_type": "stream",
     "text": [
      "Batch: 100%|████████████████████████████████████████████████████████████████████████| 240/240 [00:00<00:00, 944.86it/s]\n"
     ]
    },
    {
     "name": "stdout",
     "output_type": "stream",
     "text": [
      "Epoch: 5     Loss: 0.32209     Training Acc: 0.92238     Validation Acc: 0.91818\n"
     ]
    },
    {
     "name": "stderr",
     "output_type": "stream",
     "text": [
      "Batch: 100%|████████████████████████████████████████████████████████████████████████| 240/240 [00:00<00:00, 910.63it/s]\n"
     ]
    },
    {
     "name": "stdout",
     "output_type": "stream",
     "text": [
      "Epoch: 6     Loss: 0.30422     Training Acc: 0.92439     Validation Acc: 0.92137\n"
     ]
    },
    {
     "name": "stderr",
     "output_type": "stream",
     "text": [
      "Batch: 100%|████████████████████████████████████████████████████████████████████████| 240/240 [00:00<00:00, 898.35it/s]\n"
     ]
    },
    {
     "name": "stdout",
     "output_type": "stream",
     "text": [
      "Epoch: 7     Loss: 0.2897     Training Acc: 0.92772     Validation Acc: 0.92427\n"
     ]
    },
    {
     "name": "stderr",
     "output_type": "stream",
     "text": [
      "Batch: 100%|███████████████████████████████████████████████████████████████████████| 240/240 [00:00<00:00, 1019.56it/s]\n"
     ]
    },
    {
     "name": "stdout",
     "output_type": "stream",
     "text": [
      "Epoch: 8     Loss: 0.27759     Training Acc: 0.92931     Validation Acc: 0.92664\n"
     ]
    },
    {
     "name": "stderr",
     "output_type": "stream",
     "text": [
      "Batch: 100%|████████████████████████████████████████████████████████████████████████| 240/240 [00:00<00:00, 951.50it/s]\n"
     ]
    },
    {
     "name": "stdout",
     "output_type": "stream",
     "text": [
      "Epoch: 9     Loss: 0.26732     Training Acc: 0.9309     Validation Acc: 0.92858\n"
     ]
    },
    {
     "name": "stderr",
     "output_type": "stream",
     "text": [
      "Batch: 100%|███████████████████████████████████████████████████████████████████████| 240/240 [00:00<00:00, 1023.41it/s]\n"
     ]
    },
    {
     "name": "stdout",
     "output_type": "stream",
     "text": [
      "Epoch: 10     Loss: 0.25842     Training Acc: 0.93215     Validation Acc: 0.93017\n"
     ]
    },
    {
     "name": "stderr",
     "output_type": "stream",
     "text": [
      "Batch: 100%|████████████████████████████████████████████████████████████████████████| 240/240 [00:00<00:00, 967.74it/s]\n"
     ]
    },
    {
     "name": "stdout",
     "output_type": "stream",
     "text": [
      "Epoch: 11     Loss: 0.25064     Training Acc: 0.93323     Validation Acc: 0.93162\n"
     ]
    },
    {
     "name": "stderr",
     "output_type": "stream",
     "text": [
      "Batch: 100%|███████████████████████████████████████████████████████████████████████| 240/240 [00:00<00:00, 1155.08it/s]\n"
     ]
    },
    {
     "name": "stdout",
     "output_type": "stream",
     "text": [
      "Epoch: 12     Loss: 0.24374     Training Acc: 0.9344     Validation Acc: 0.93289\n"
     ]
    },
    {
     "name": "stderr",
     "output_type": "stream",
     "text": [
      "Batch: 100%|███████████████████████████████████████████████████████████████████████| 240/240 [00:00<00:00, 1044.76it/s]\n"
     ]
    },
    {
     "name": "stdout",
     "output_type": "stream",
     "text": [
      "Epoch: 13     Loss: 0.23758     Training Acc: 0.93515     Validation Acc: 0.93404\n"
     ]
    },
    {
     "name": "stderr",
     "output_type": "stream",
     "text": [
      "Batch: 100%|███████████████████████████████████████████████████████████████████████| 240/240 [00:00<00:00, 1180.46it/s]\n"
     ]
    },
    {
     "name": "stdout",
     "output_type": "stream",
     "text": [
      "Epoch: 14     Loss: 0.23203     Training Acc: 0.93582     Validation Acc: 0.93508\n"
     ]
    },
    {
     "name": "stderr",
     "output_type": "stream",
     "text": [
      "Batch: 100%|████████████████████████████████████████████████████████████████████████| 240/240 [00:00<00:00, 932.71it/s]\n"
     ]
    },
    {
     "name": "stdout",
     "output_type": "stream",
     "text": [
      "Epoch: 15     Loss: 0.227     Training Acc: 0.93707     Validation Acc: 0.93596\n"
     ]
    },
    {
     "name": "stderr",
     "output_type": "stream",
     "text": [
      "Batch: 100%|████████████████████████████████████████████████████████████████████████| 240/240 [00:00<00:00, 862.44it/s]\n"
     ]
    },
    {
     "name": "stdout",
     "output_type": "stream",
     "text": [
      "Epoch: 16     Loss: 0.2224     Training Acc: 0.93766     Validation Acc: 0.93676\n"
     ]
    },
    {
     "name": "stderr",
     "output_type": "stream",
     "text": [
      "Batch: 100%|███████████████████████████████████████████████████████████████████████| 240/240 [00:00<00:00, 1056.66it/s]\n"
     ]
    },
    {
     "name": "stdout",
     "output_type": "stream",
     "text": [
      "Epoch: 17     Loss: 0.2182     Training Acc: 0.93891     Validation Acc: 0.93753\n"
     ]
    },
    {
     "name": "stderr",
     "output_type": "stream",
     "text": [
      "Batch: 100%|███████████████████████████████████████████████████████████████████████| 240/240 [00:00<00:00, 1081.94it/s]\n"
     ]
    },
    {
     "name": "stdout",
     "output_type": "stream",
     "text": [
      "Epoch: 18     Loss: 0.21431     Training Acc: 0.93941     Validation Acc: 0.93824\n"
     ]
    },
    {
     "name": "stderr",
     "output_type": "stream",
     "text": [
      "Batch: 100%|███████████████████████████████████████████████████████████████████████| 240/240 [00:00<00:00, 1064.15it/s]\n"
     ]
    },
    {
     "name": "stdout",
     "output_type": "stream",
     "text": [
      "Epoch: 19     Loss: 0.21073     Training Acc: 0.94041     Validation Acc: 0.93896\n"
     ]
    },
    {
     "name": "stderr",
     "output_type": "stream",
     "text": [
      "Batch: 100%|████████████████████████████████████████████████████████████████████████| 240/240 [00:00<00:00, 730.74it/s]\n"
     ]
    },
    {
     "name": "stdout",
     "output_type": "stream",
     "text": [
      "Epoch: 20     Loss: 0.20741     Training Acc: 0.94091     Validation Acc: 0.93961\n"
     ]
    },
    {
     "name": "stderr",
     "output_type": "stream",
     "text": [
      "Batch: 100%|████████████████████████████████████████████████████████████████████████| 240/240 [00:00<00:00, 759.57it/s]\n"
     ]
    },
    {
     "name": "stdout",
     "output_type": "stream",
     "text": [
      "Epoch: 21     Loss: 0.2043     Training Acc: 0.942     Validation Acc: 0.94023\n"
     ]
    },
    {
     "name": "stderr",
     "output_type": "stream",
     "text": [
      "Batch: 100%|████████████████████████████████████████████████████████████████████████| 240/240 [00:00<00:00, 735.06it/s]\n"
     ]
    },
    {
     "name": "stdout",
     "output_type": "stream",
     "text": [
      "Epoch: 22     Loss: 0.20139     Training Acc: 0.94233     Validation Acc: 0.94077\n"
     ]
    },
    {
     "name": "stderr",
     "output_type": "stream",
     "text": [
      "Batch: 100%|████████████████████████████████████████████████████████████████████████| 240/240 [00:00<00:00, 766.24it/s]\n"
     ]
    },
    {
     "name": "stdout",
     "output_type": "stream",
     "text": [
      "Epoch: 23     Loss: 0.19869     Training Acc: 0.94258     Validation Acc: 0.94128\n"
     ]
    },
    {
     "name": "stderr",
     "output_type": "stream",
     "text": [
      "Batch: 100%|████████████████████████████████████████████████████████████████████████| 240/240 [00:00<00:00, 731.28it/s]\n"
     ]
    },
    {
     "name": "stdout",
     "output_type": "stream",
     "text": [
      "Epoch: 24     Loss: 0.19614     Training Acc: 0.943     Validation Acc: 0.94179\n"
     ]
    },
    {
     "name": "stderr",
     "output_type": "stream",
     "text": [
      "Batch: 100%|████████████████████████████████████████████████████████████████████████| 240/240 [00:00<00:00, 732.20it/s]\n"
     ]
    },
    {
     "name": "stdout",
     "output_type": "stream",
     "text": [
      "Epoch: 25     Loss: 0.19374     Training Acc: 0.94375     Validation Acc: 0.94231\n"
     ]
    },
    {
     "name": "stderr",
     "output_type": "stream",
     "text": [
      "Batch: 100%|████████████████████████████████████████████████████████████████████████| 240/240 [00:00<00:00, 733.73it/s]\n"
     ]
    },
    {
     "name": "stdout",
     "output_type": "stream",
     "text": [
      "Epoch: 26     Loss: 0.19147     Training Acc: 0.94417     Validation Acc: 0.94282\n"
     ]
    },
    {
     "name": "stderr",
     "output_type": "stream",
     "text": [
      "Batch: 100%|████████████████████████████████████████████████████████████████████████| 240/240 [00:00<00:00, 867.13it/s]\n"
     ]
    },
    {
     "name": "stdout",
     "output_type": "stream",
     "text": [
      "Epoch: 27     Loss: 0.18934     Training Acc: 0.94467     Validation Acc: 0.9433\n"
     ]
    },
    {
     "name": "stderr",
     "output_type": "stream",
     "text": [
      "Batch: 100%|████████████████████████████████████████████████████████████████████████| 240/240 [00:00<00:00, 969.42it/s]\n"
     ]
    },
    {
     "name": "stdout",
     "output_type": "stream",
     "text": [
      "Epoch: 28     Loss: 0.18731     Training Acc: 0.94525     Validation Acc: 0.94376\n"
     ]
    },
    {
     "name": "stderr",
     "output_type": "stream",
     "text": [
      "Batch: 100%|████████████████████████████████████████████████████████████████████████| 240/240 [00:00<00:00, 971.19it/s]\n"
     ]
    },
    {
     "name": "stdout",
     "output_type": "stream",
     "text": [
      "Epoch: 29     Loss: 0.18538     Training Acc: 0.94517     Validation Acc: 0.94419\n"
     ]
    },
    {
     "name": "stderr",
     "output_type": "stream",
     "text": [
      "Batch: 100%|████████████████████████████████████████████████████████████████████████| 240/240 [00:00<00:00, 974.84it/s]\n"
     ]
    },
    {
     "name": "stdout",
     "output_type": "stream",
     "text": [
      "Epoch: 30     Loss: 0.18356     Training Acc: 0.9455     Validation Acc: 0.94457\n"
     ]
    },
    {
     "name": "stderr",
     "output_type": "stream",
     "text": [
      "Batch: 100%|████████████████████████████████████████████████████████████████████████| 240/240 [00:00<00:00, 984.84it/s]\n"
     ]
    },
    {
     "name": "stdout",
     "output_type": "stream",
     "text": [
      "Epoch: 31     Loss: 0.18182     Training Acc: 0.94592     Validation Acc: 0.94495\n"
     ]
    },
    {
     "name": "stderr",
     "output_type": "stream",
     "text": [
      "Batch: 100%|███████████████████████████████████████████████████████████████████████| 240/240 [00:00<00:00, 1003.09it/s]\n"
     ]
    },
    {
     "name": "stdout",
     "output_type": "stream",
     "text": [
      "Epoch: 32     Loss: 0.18016     Training Acc: 0.94609     Validation Acc: 0.9453\n"
     ]
    },
    {
     "name": "stderr",
     "output_type": "stream",
     "text": [
      "Batch: 100%|████████████████████████████████████████████████████████████████████████| 240/240 [00:00<00:00, 963.23it/s]\n"
     ]
    },
    {
     "name": "stdout",
     "output_type": "stream",
     "text": [
      "Epoch: 33     Loss: 0.17858     Training Acc: 0.94625     Validation Acc: 0.94564\n"
     ]
    },
    {
     "name": "stderr",
     "output_type": "stream",
     "text": [
      "Batch: 100%|████████████████████████████████████████████████████████████████████████| 240/240 [00:00<00:00, 939.20it/s]\n"
     ]
    },
    {
     "name": "stdout",
     "output_type": "stream",
     "text": [
      "Epoch: 34     Loss: 0.17707     Training Acc: 0.94675     Validation Acc: 0.94595\n"
     ]
    },
    {
     "name": "stderr",
     "output_type": "stream",
     "text": [
      "Batch: 100%|████████████████████████████████████████████████████████████████████████| 240/240 [00:00<00:00, 953.51it/s]\n"
     ]
    },
    {
     "name": "stdout",
     "output_type": "stream",
     "text": [
      "Epoch: 35     Loss: 0.17562     Training Acc: 0.94734     Validation Acc: 0.94626\n"
     ]
    },
    {
     "name": "stderr",
     "output_type": "stream",
     "text": [
      "Batch: 100%|███████████████████████████████████████████████████████████████████████| 240/240 [00:00<00:00, 1030.64it/s]\n"
     ]
    },
    {
     "name": "stdout",
     "output_type": "stream",
     "text": [
      "Epoch: 36     Loss: 0.17423     Training Acc: 0.94792     Validation Acc: 0.94657\n"
     ]
    },
    {
     "name": "stderr",
     "output_type": "stream",
     "text": [
      "Batch: 100%|███████████████████████████████████████████████████████████████████████| 240/240 [00:00<00:00, 1039.51it/s]\n"
     ]
    },
    {
     "name": "stdout",
     "output_type": "stream",
     "text": [
      "Epoch: 37     Loss: 0.1729     Training Acc: 0.94834     Validation Acc: 0.94688\n"
     ]
    },
    {
     "name": "stderr",
     "output_type": "stream",
     "text": [
      "Batch: 100%|███████████████████████████████████████████████████████████████████████| 240/240 [00:00<00:00, 1010.24it/s]\n"
     ]
    },
    {
     "name": "stdout",
     "output_type": "stream",
     "text": [
      "Epoch: 38     Loss: 0.17163     Training Acc: 0.94892     Validation Acc: 0.94718\n"
     ]
    },
    {
     "name": "stderr",
     "output_type": "stream",
     "text": [
      "Batch: 100%|████████████████████████████████████████████████████████████████████████| 240/240 [00:00<00:00, 953.90it/s]\n"
     ]
    },
    {
     "name": "stdout",
     "output_type": "stream",
     "text": [
      "Epoch: 39     Loss: 0.1704     Training Acc: 0.94951     Validation Acc: 0.94747\n"
     ]
    },
    {
     "name": "stderr",
     "output_type": "stream",
     "text": [
      "Batch: 100%|████████████████████████████████████████████████████████████████████████| 240/240 [00:00<00:00, 969.25it/s]\n"
     ]
    },
    {
     "name": "stdout",
     "output_type": "stream",
     "text": [
      "Epoch: 40     Loss: 0.16922     Training Acc: 0.94976     Validation Acc: 0.94775\n"
     ]
    },
    {
     "name": "stderr",
     "output_type": "stream",
     "text": [
      "Batch: 100%|████████████████████████████████████████████████████████████████████████| 240/240 [00:00<00:00, 983.74it/s]\n"
     ]
    },
    {
     "name": "stdout",
     "output_type": "stream",
     "text": [
      "Epoch: 41     Loss: 0.16808     Training Acc: 0.95026     Validation Acc: 0.94802\n"
     ]
    },
    {
     "name": "stderr",
     "output_type": "stream",
     "text": [
      "Batch: 100%|███████████████████████████████████████████████████████████████████████| 240/240 [00:00<00:00, 1062.71it/s]\n"
     ]
    },
    {
     "name": "stdout",
     "output_type": "stream",
     "text": [
      "Epoch: 42     Loss: 0.16698     Training Acc: 0.95043     Validation Acc: 0.9483\n"
     ]
    },
    {
     "name": "stderr",
     "output_type": "stream",
     "text": [
      "Batch: 100%|███████████████████████████████████████████████████████████████████████| 240/240 [00:00<00:00, 1028.78it/s]\n"
     ]
    },
    {
     "name": "stdout",
     "output_type": "stream",
     "text": [
      "Epoch: 43     Loss: 0.16593     Training Acc: 0.95109     Validation Acc: 0.94857\n"
     ]
    },
    {
     "name": "stderr",
     "output_type": "stream",
     "text": [
      "Batch: 100%|███████████████████████████████████████████████████████████████████████| 240/240 [00:00<00:00, 1007.49it/s]\n"
     ]
    },
    {
     "name": "stdout",
     "output_type": "stream",
     "text": [
      "Epoch: 44     Loss: 0.16492     Training Acc: 0.95151     Validation Acc: 0.94882\n"
     ]
    },
    {
     "name": "stderr",
     "output_type": "stream",
     "text": [
      "Batch: 100%|███████████████████████████████████████████████████████████████████████| 240/240 [00:00<00:00, 1111.62it/s]\n"
     ]
    },
    {
     "name": "stdout",
     "output_type": "stream",
     "text": [
      "Epoch: 45     Loss: 0.16393     Training Acc: 0.95143     Validation Acc: 0.94907\n"
     ]
    },
    {
     "name": "stderr",
     "output_type": "stream",
     "text": [
      "Batch: 100%|███████████████████████████████████████████████████████████████████████| 240/240 [00:00<00:00, 1103.27it/s]\n"
     ]
    },
    {
     "name": "stdout",
     "output_type": "stream",
     "text": [
      "Epoch: 46     Loss: 0.16298     Training Acc: 0.95184     Validation Acc: 0.94931\n"
     ]
    },
    {
     "name": "stderr",
     "output_type": "stream",
     "text": [
      "Batch: 100%|███████████████████████████████████████████████████████████████████████| 240/240 [00:00<00:00, 1075.76it/s]\n"
     ]
    },
    {
     "name": "stdout",
     "output_type": "stream",
     "text": [
      "Epoch: 47     Loss: 0.16206     Training Acc: 0.95184     Validation Acc: 0.94953\n"
     ]
    },
    {
     "name": "stderr",
     "output_type": "stream",
     "text": [
      "Batch: 100%|████████████████████████████████████████████████████████████████████████| 240/240 [00:00<00:00, 960.58it/s]\n"
     ]
    },
    {
     "name": "stdout",
     "output_type": "stream",
     "text": [
      "Epoch: 48     Loss: 0.16117     Training Acc: 0.95193     Validation Acc: 0.94976\n"
     ]
    },
    {
     "name": "stderr",
     "output_type": "stream",
     "text": [
      "Batch: 100%|███████████████████████████████████████████████████████████████████████| 240/240 [00:00<00:00, 1011.45it/s]\n"
     ]
    },
    {
     "name": "stdout",
     "output_type": "stream",
     "text": [
      "Epoch: 49     Loss: 0.16031     Training Acc: 0.95226     Validation Acc: 0.94997\n"
     ]
    },
    {
     "name": "stderr",
     "output_type": "stream",
     "text": [
      "Batch: 100%|███████████████████████████████████████████████████████████████████████| 240/240 [00:00<00:00, 1143.73it/s]\n"
     ]
    },
    {
     "name": "stdout",
     "output_type": "stream",
     "text": [
      "Epoch: 50     Loss: 0.15948     Training Acc: 0.95201     Validation Acc: 0.95018\n"
     ]
    },
    {
     "name": "stderr",
     "output_type": "stream",
     "text": [
      "Batch: 100%|███████████████████████████████████████████████████████████████████████| 240/240 [00:00<00:00, 1043.87it/s]\n"
     ]
    },
    {
     "name": "stdout",
     "output_type": "stream",
     "text": [
      "Epoch: 51     Loss: 0.15867     Training Acc: 0.95226     Validation Acc: 0.95038\n"
     ]
    },
    {
     "name": "stderr",
     "output_type": "stream",
     "text": [
      "Batch: 100%|████████████████████████████████████████████████████████████████████████| 240/240 [00:00<00:00, 929.92it/s]\n"
     ]
    },
    {
     "name": "stdout",
     "output_type": "stream",
     "text": [
      "Epoch: 52     Loss: 0.15789     Training Acc: 0.95243     Validation Acc: 0.95059\n"
     ]
    },
    {
     "name": "stderr",
     "output_type": "stream",
     "text": [
      "Batch: 100%|███████████████████████████████████████████████████████████████████████| 240/240 [00:00<00:00, 1017.34it/s]\n"
     ]
    },
    {
     "name": "stdout",
     "output_type": "stream",
     "text": [
      "Epoch: 53     Loss: 0.15712     Training Acc: 0.95218     Validation Acc: 0.95078\n"
     ]
    },
    {
     "name": "stderr",
     "output_type": "stream",
     "text": [
      "Batch: 100%|███████████████████████████████████████████████████████████████████████| 240/240 [00:00<00:00, 1132.85it/s]\n"
     ]
    },
    {
     "name": "stdout",
     "output_type": "stream",
     "text": [
      "Epoch: 54     Loss: 0.15638     Training Acc: 0.95235     Validation Acc: 0.95098\n"
     ]
    },
    {
     "name": "stderr",
     "output_type": "stream",
     "text": [
      "Batch: 100%|████████████████████████████████████████████████████████████████████████| 240/240 [00:00<00:00, 986.97it/s]\n"
     ]
    },
    {
     "name": "stdout",
     "output_type": "stream",
     "text": [
      "Epoch: 55     Loss: 0.15566     Training Acc: 0.95226     Validation Acc: 0.95117\n"
     ]
    },
    {
     "name": "stderr",
     "output_type": "stream",
     "text": [
      "Batch: 100%|███████████████████████████████████████████████████████████████████████| 240/240 [00:00<00:00, 1159.23it/s]\n"
     ]
    },
    {
     "name": "stdout",
     "output_type": "stream",
     "text": [
      "Epoch: 56     Loss: 0.15496     Training Acc: 0.95243     Validation Acc: 0.95136\n"
     ]
    },
    {
     "name": "stderr",
     "output_type": "stream",
     "text": [
      "Batch: 100%|████████████████████████████████████████████████████████████████████████| 240/240 [00:00<00:00, 969.62it/s]\n"
     ]
    },
    {
     "name": "stdout",
     "output_type": "stream",
     "text": [
      "Epoch: 57     Loss: 0.15428     Training Acc: 0.95293     Validation Acc: 0.95153\n"
     ]
    },
    {
     "name": "stderr",
     "output_type": "stream",
     "text": [
      "Batch: 100%|███████████████████████████████████████████████████████████████████████| 240/240 [00:00<00:00, 1074.38it/s]\n"
     ]
    },
    {
     "name": "stdout",
     "output_type": "stream",
     "text": [
      "Epoch: 58     Loss: 0.15362     Training Acc: 0.95268     Validation Acc: 0.95172\n"
     ]
    },
    {
     "name": "stderr",
     "output_type": "stream",
     "text": [
      "Batch: 100%|███████████████████████████████████████████████████████████████████████| 240/240 [00:00<00:00, 1044.32it/s]\n"
     ]
    },
    {
     "name": "stdout",
     "output_type": "stream",
     "text": [
      "Epoch: 59     Loss: 0.15297     Training Acc: 0.95301     Validation Acc: 0.9519\n"
     ]
    },
    {
     "name": "stderr",
     "output_type": "stream",
     "text": [
      "Batch: 100%|███████████████████████████████████████████████████████████████████████| 240/240 [00:00<00:00, 1107.44it/s]\n"
     ]
    },
    {
     "name": "stdout",
     "output_type": "stream",
     "text": [
      "Epoch: 60     Loss: 0.15234     Training Acc: 0.95293     Validation Acc: 0.95208\n"
     ]
    },
    {
     "name": "stderr",
     "output_type": "stream",
     "text": [
      "Batch: 100%|███████████████████████████████████████████████████████████████████████| 240/240 [00:00<00:00, 1092.28it/s]\n"
     ]
    },
    {
     "name": "stdout",
     "output_type": "stream",
     "text": [
      "Epoch: 61     Loss: 0.15173     Training Acc: 0.95326     Validation Acc: 0.95225\n"
     ]
    },
    {
     "name": "stderr",
     "output_type": "stream",
     "text": [
      "Batch: 100%|███████████████████████████████████████████████████████████████████████| 240/240 [00:00<00:00, 1027.35it/s]\n"
     ]
    },
    {
     "name": "stdout",
     "output_type": "stream",
     "text": [
      "Epoch: 62     Loss: 0.15114     Training Acc: 0.95335     Validation Acc: 0.95241\n"
     ]
    },
    {
     "name": "stderr",
     "output_type": "stream",
     "text": [
      "Batch: 100%|███████████████████████████████████████████████████████████████████████| 240/240 [00:00<00:00, 1030.94it/s]\n"
     ]
    },
    {
     "name": "stdout",
     "output_type": "stream",
     "text": [
      "Epoch: 63     Loss: 0.15055     Training Acc: 0.95401     Validation Acc: 0.95257\n"
     ]
    },
    {
     "name": "stderr",
     "output_type": "stream",
     "text": [
      "Batch: 100%|███████████████████████████████████████████████████████████████████████| 240/240 [00:00<00:00, 1017.01it/s]\n"
     ]
    },
    {
     "name": "stdout",
     "output_type": "stream",
     "text": [
      "Epoch: 64     Loss: 0.14999     Training Acc: 0.95393     Validation Acc: 0.95274\n"
     ]
    },
    {
     "name": "stderr",
     "output_type": "stream",
     "text": [
      "Batch: 100%|███████████████████████████████████████████████████████████████████████| 240/240 [00:00<00:00, 1148.74it/s]\n"
     ]
    },
    {
     "name": "stdout",
     "output_type": "stream",
     "text": [
      "Epoch: 65     Loss: 0.14943     Training Acc: 0.95426     Validation Acc: 0.9529\n"
     ]
    },
    {
     "name": "stderr",
     "output_type": "stream",
     "text": [
      "Batch: 100%|████████████████████████████████████████████████████████████████████████| 240/240 [00:00<00:00, 934.44it/s]\n"
     ]
    },
    {
     "name": "stdout",
     "output_type": "stream",
     "text": [
      "Epoch: 66     Loss: 0.14889     Training Acc: 0.95452     Validation Acc: 0.95306\n"
     ]
    },
    {
     "name": "stderr",
     "output_type": "stream",
     "text": [
      "Batch: 100%|███████████████████████████████████████████████████████████████████████| 240/240 [00:00<00:00, 1053.70it/s]\n"
     ]
    },
    {
     "name": "stdout",
     "output_type": "stream",
     "text": [
      "Epoch: 67     Loss: 0.14836     Training Acc: 0.9546     Validation Acc: 0.95323\n"
     ]
    },
    {
     "name": "stderr",
     "output_type": "stream",
     "text": [
      "Batch: 100%|███████████████████████████████████████████████████████████████████████| 240/240 [00:00<00:00, 1093.25it/s]\n"
     ]
    },
    {
     "name": "stdout",
     "output_type": "stream",
     "text": [
      "Epoch: 68     Loss: 0.14785     Training Acc: 0.95477     Validation Acc: 0.95339\n"
     ]
    },
    {
     "name": "stderr",
     "output_type": "stream",
     "text": [
      "Batch: 100%|███████████████████████████████████████████████████████████████████████| 240/240 [00:00<00:00, 1086.24it/s]\n"
     ]
    },
    {
     "name": "stdout",
     "output_type": "stream",
     "text": [
      "Epoch: 69     Loss: 0.14734     Training Acc: 0.95468     Validation Acc: 0.95354\n"
     ]
    },
    {
     "name": "stderr",
     "output_type": "stream",
     "text": [
      "Batch: 100%|████████████████████████████████████████████████████████████████████████| 240/240 [00:00<00:00, 925.62it/s]\n"
     ]
    },
    {
     "name": "stdout",
     "output_type": "stream",
     "text": [
      "Epoch: 70     Loss: 0.14685     Training Acc: 0.95468     Validation Acc: 0.95368\n"
     ]
    },
    {
     "name": "stderr",
     "output_type": "stream",
     "text": [
      "Batch: 100%|████████████████████████████████████████████████████████████████████████| 240/240 [00:00<00:00, 953.79it/s]\n"
     ]
    },
    {
     "name": "stdout",
     "output_type": "stream",
     "text": [
      "Epoch: 71     Loss: 0.14637     Training Acc: 0.95535     Validation Acc: 0.95382\n"
     ]
    },
    {
     "name": "stderr",
     "output_type": "stream",
     "text": [
      "Batch: 100%|███████████████████████████████████████████████████████████████████████| 240/240 [00:00<00:00, 1020.56it/s]\n"
     ]
    },
    {
     "name": "stdout",
     "output_type": "stream",
     "text": [
      "Epoch: 72     Loss: 0.14589     Training Acc: 0.9551     Validation Acc: 0.95395\n"
     ]
    },
    {
     "name": "stderr",
     "output_type": "stream",
     "text": [
      "Batch: 100%|███████████████████████████████████████████████████████████████████████| 240/240 [00:00<00:00, 1081.29it/s]\n"
     ]
    },
    {
     "name": "stdout",
     "output_type": "stream",
     "text": [
      "Epoch: 73     Loss: 0.14544     Training Acc: 0.9556     Validation Acc: 0.95409\n"
     ]
    },
    {
     "name": "stderr",
     "output_type": "stream",
     "text": [
      "Batch: 100%|████████████████████████████████████████████████████████████████████████| 240/240 [00:00<00:00, 964.74it/s]\n"
     ]
    },
    {
     "name": "stdout",
     "output_type": "stream",
     "text": [
      "Epoch: 74     Loss: 0.14498     Training Acc: 0.95543     Validation Acc: 0.95422\n"
     ]
    },
    {
     "name": "stderr",
     "output_type": "stream",
     "text": [
      "Batch: 100%|████████████████████████████████████████████████████████████████████████| 240/240 [00:00<00:00, 932.19it/s]\n"
     ]
    },
    {
     "name": "stdout",
     "output_type": "stream",
     "text": [
      "Epoch: 75     Loss: 0.14454     Training Acc: 0.95552     Validation Acc: 0.95436\n"
     ]
    },
    {
     "name": "stderr",
     "output_type": "stream",
     "text": [
      "Batch: 100%|███████████████████████████████████████████████████████████████████████| 240/240 [00:00<00:00, 1130.48it/s]\n"
     ]
    },
    {
     "name": "stdout",
     "output_type": "stream",
     "text": [
      "Epoch: 76     Loss: 0.1441     Training Acc: 0.95577     Validation Acc: 0.95449\n"
     ]
    },
    {
     "name": "stderr",
     "output_type": "stream",
     "text": [
      "Batch: 100%|███████████████████████████████████████████████████████████████████████| 240/240 [00:00<00:00, 1008.82it/s]\n"
     ]
    },
    {
     "name": "stdout",
     "output_type": "stream",
     "text": [
      "Epoch: 77     Loss: 0.14368     Training Acc: 0.95593     Validation Acc: 0.95462\n"
     ]
    },
    {
     "name": "stderr",
     "output_type": "stream",
     "text": [
      "Batch: 100%|████████████████████████████████████████████████████████████████████████| 240/240 [00:00<00:00, 981.91it/s]\n"
     ]
    },
    {
     "name": "stdout",
     "output_type": "stream",
     "text": [
      "Epoch: 78     Loss: 0.14326     Training Acc: 0.95618     Validation Acc: 0.95476\n"
     ]
    },
    {
     "name": "stderr",
     "output_type": "stream",
     "text": [
      "Batch: 100%|████████████████████████████████████████████████████████████████████████| 240/240 [00:00<00:00, 976.34it/s]\n"
     ]
    },
    {
     "name": "stdout",
     "output_type": "stream",
     "text": [
      "Epoch: 79     Loss: 0.14285     Training Acc: 0.95627     Validation Acc: 0.95489\n"
     ]
    },
    {
     "name": "stderr",
     "output_type": "stream",
     "text": [
      "Batch: 100%|███████████████████████████████████████████████████████████████████████| 240/240 [00:00<00:00, 1016.59it/s]\n"
     ]
    },
    {
     "name": "stdout",
     "output_type": "stream",
     "text": [
      "Epoch: 80     Loss: 0.14246     Training Acc: 0.95627     Validation Acc: 0.95502\n"
     ]
    },
    {
     "name": "stderr",
     "output_type": "stream",
     "text": [
      "Batch: 100%|███████████████████████████████████████████████████████████████████████| 240/240 [00:00<00:00, 1060.88it/s]\n"
     ]
    },
    {
     "name": "stdout",
     "output_type": "stream",
     "text": [
      "Epoch: 81     Loss: 0.14207     Training Acc: 0.95643     Validation Acc: 0.95514\n"
     ]
    },
    {
     "name": "stderr",
     "output_type": "stream",
     "text": [
      "Batch: 100%|████████████████████████████████████████████████████████████████████████| 240/240 [00:00<00:00, 991.35it/s]\n"
     ]
    },
    {
     "name": "stdout",
     "output_type": "stream",
     "text": [
      "Epoch: 82     Loss: 0.14168     Training Acc: 0.95652     Validation Acc: 0.95526\n"
     ]
    },
    {
     "name": "stderr",
     "output_type": "stream",
     "text": [
      "Batch: 100%|████████████████████████████████████████████████████████████████████████| 240/240 [00:00<00:00, 928.89it/s]\n"
     ]
    },
    {
     "name": "stdout",
     "output_type": "stream",
     "text": [
      "Epoch: 83     Loss: 0.1413     Training Acc: 0.95643     Validation Acc: 0.95538\n"
     ]
    },
    {
     "name": "stderr",
     "output_type": "stream",
     "text": [
      "Batch: 100%|███████████████████████████████████████████████████████████████████████| 240/240 [00:00<00:00, 1079.90it/s]\n"
     ]
    },
    {
     "name": "stdout",
     "output_type": "stream",
     "text": [
      "Epoch: 84     Loss: 0.14093     Training Acc: 0.95669     Validation Acc: 0.9555\n"
     ]
    },
    {
     "name": "stderr",
     "output_type": "stream",
     "text": [
      "Batch: 100%|███████████████████████████████████████████████████████████████████████| 240/240 [00:00<00:00, 1050.91it/s]\n"
     ]
    },
    {
     "name": "stdout",
     "output_type": "stream",
     "text": [
      "Epoch: 85     Loss: 0.14057     Training Acc: 0.95685     Validation Acc: 0.95562\n"
     ]
    },
    {
     "name": "stderr",
     "output_type": "stream",
     "text": [
      "Batch: 100%|███████████████████████████████████████████████████████████████████████| 240/240 [00:00<00:00, 1026.73it/s]\n"
     ]
    },
    {
     "name": "stdout",
     "output_type": "stream",
     "text": [
      "Epoch: 86     Loss: 0.14021     Training Acc: 0.95685     Validation Acc: 0.95574\n"
     ]
    },
    {
     "name": "stderr",
     "output_type": "stream",
     "text": [
      "Batch: 100%|████████████████████████████████████████████████████████████████████████| 240/240 [00:00<00:00, 974.40it/s]\n"
     ]
    },
    {
     "name": "stdout",
     "output_type": "stream",
     "text": [
      "Epoch: 87     Loss: 0.13986     Training Acc: 0.95719     Validation Acc: 0.95585\n"
     ]
    },
    {
     "name": "stderr",
     "output_type": "stream",
     "text": [
      "Batch: 100%|███████████████████████████████████████████████████████████████████████| 240/240 [00:00<00:00, 1134.25it/s]\n"
     ]
    },
    {
     "name": "stdout",
     "output_type": "stream",
     "text": [
      "Epoch: 88     Loss: 0.13951     Training Acc: 0.95719     Validation Acc: 0.95596\n"
     ]
    },
    {
     "name": "stderr",
     "output_type": "stream",
     "text": [
      "Batch: 100%|███████████████████████████████████████████████████████████████████████| 240/240 [00:00<00:00, 1053.70it/s]\n"
     ]
    },
    {
     "name": "stdout",
     "output_type": "stream",
     "text": [
      "Epoch: 89     Loss: 0.13917     Training Acc: 0.95727     Validation Acc: 0.95607\n"
     ]
    },
    {
     "name": "stderr",
     "output_type": "stream",
     "text": [
      "Batch: 100%|████████████████████████████████████████████████████████████████████████| 240/240 [00:00<00:00, 969.70it/s]\n"
     ]
    },
    {
     "name": "stdout",
     "output_type": "stream",
     "text": [
      "Epoch: 90     Loss: 0.13884     Training Acc: 0.95719     Validation Acc: 0.95618\n"
     ]
    },
    {
     "name": "stderr",
     "output_type": "stream",
     "text": [
      "Batch: 100%|████████████████████████████████████████████████████████████████████████| 240/240 [00:00<00:00, 989.44it/s]\n"
     ]
    },
    {
     "name": "stdout",
     "output_type": "stream",
     "text": [
      "Epoch: 91     Loss: 0.13852     Training Acc: 0.9576     Validation Acc: 0.95629\n"
     ]
    },
    {
     "name": "stderr",
     "output_type": "stream",
     "text": [
      "Batch: 100%|███████████████████████████████████████████████████████████████████████| 240/240 [00:00<00:00, 1012.84it/s]\n"
     ]
    },
    {
     "name": "stdout",
     "output_type": "stream",
     "text": [
      "Epoch: 92     Loss: 0.1382     Training Acc: 0.95752     Validation Acc: 0.9564\n"
     ]
    },
    {
     "name": "stderr",
     "output_type": "stream",
     "text": [
      "Batch: 100%|███████████████████████████████████████████████████████████████████████| 240/240 [00:00<00:00, 1024.60it/s]\n"
     ]
    },
    {
     "name": "stdout",
     "output_type": "stream",
     "text": [
      "Epoch: 93     Loss: 0.13788     Training Acc: 0.95785     Validation Acc: 0.95651\n"
     ]
    },
    {
     "name": "stderr",
     "output_type": "stream",
     "text": [
      "Batch: 100%|███████████████████████████████████████████████████████████████████████| 240/240 [00:00<00:00, 1001.09it/s]\n"
     ]
    },
    {
     "name": "stdout",
     "output_type": "stream",
     "text": [
      "Epoch: 94     Loss: 0.13757     Training Acc: 0.95744     Validation Acc: 0.95663\n"
     ]
    },
    {
     "name": "stderr",
     "output_type": "stream",
     "text": [
      "Batch: 100%|███████████████████████████████████████████████████████████████████████| 240/240 [00:00<00:00, 1045.79it/s]\n"
     ]
    },
    {
     "name": "stdout",
     "output_type": "stream",
     "text": [
      "Epoch: 95     Loss: 0.13726     Training Acc: 0.95827     Validation Acc: 0.95674\n"
     ]
    },
    {
     "name": "stderr",
     "output_type": "stream",
     "text": [
      "Batch: 100%|████████████████████████████████████████████████████████████████████████| 240/240 [00:00<00:00, 999.15it/s]\n"
     ]
    },
    {
     "name": "stdout",
     "output_type": "stream",
     "text": [
      "Epoch: 96     Loss: 0.13697     Training Acc: 0.95785     Validation Acc: 0.95685\n"
     ]
    },
    {
     "name": "stderr",
     "output_type": "stream",
     "text": [
      "Batch: 100%|███████████████████████████████████████████████████████████████████████| 240/240 [00:00<00:00, 1139.13it/s]\n"
     ]
    },
    {
     "name": "stdout",
     "output_type": "stream",
     "text": [
      "Epoch: 97     Loss: 0.13667     Training Acc: 0.95835     Validation Acc: 0.95694\n"
     ]
    },
    {
     "name": "stderr",
     "output_type": "stream",
     "text": [
      "Batch: 100%|███████████████████████████████████████████████████████████████████████| 240/240 [00:00<00:00, 1088.97it/s]\n"
     ]
    },
    {
     "name": "stdout",
     "output_type": "stream",
     "text": [
      "Epoch: 98     Loss: 0.13638     Training Acc: 0.95827     Validation Acc: 0.95704\n"
     ]
    },
    {
     "name": "stderr",
     "output_type": "stream",
     "text": [
      "Batch: 100%|███████████████████████████████████████████████████████████████████████| 240/240 [00:00<00:00, 1075.16it/s]\n"
     ]
    },
    {
     "name": "stdout",
     "output_type": "stream",
     "text": [
      "Epoch: 99     Loss: 0.13609     Training Acc: 0.95827     Validation Acc: 0.95714\n"
     ]
    },
    {
     "name": "stderr",
     "output_type": "stream",
     "text": [
      "Batch: 100%|███████████████████████████████████████████████████████████████████████| 240/240 [00:00<00:00, 1081.06it/s]\n"
     ]
    },
    {
     "name": "stdout",
     "output_type": "stream",
     "text": [
      "Epoch: 100     Loss: 0.13581     Training Acc: 0.95827     Validation Acc: 0.95723\n"
     ]
    },
    {
     "name": "stderr",
     "output_type": "stream",
     "text": [
      "Batch: 100%|████████████████████████████████████████████████████████████████████████| 240/240 [00:00<00:00, 965.27it/s]\n"
     ]
    },
    {
     "name": "stdout",
     "output_type": "stream",
     "text": [
      "Epoch: 101     Loss: 0.13553     Training Acc: 0.95852     Validation Acc: 0.95732\n"
     ]
    },
    {
     "name": "stderr",
     "output_type": "stream",
     "text": [
      "Batch: 100%|███████████████████████████████████████████████████████████████████████| 240/240 [00:00<00:00, 1148.67it/s]\n"
     ]
    },
    {
     "name": "stdout",
     "output_type": "stream",
     "text": [
      "Epoch: 102     Loss: 0.13526     Training Acc: 0.95835     Validation Acc: 0.95741\n"
     ]
    },
    {
     "name": "stderr",
     "output_type": "stream",
     "text": [
      "Batch: 100%|████████████████████████████████████████████████████████████████████████| 240/240 [00:00<00:00, 955.62it/s]\n"
     ]
    },
    {
     "name": "stdout",
     "output_type": "stream",
     "text": [
      "Epoch: 103     Loss: 0.13499     Training Acc: 0.95844     Validation Acc: 0.95749\n"
     ]
    },
    {
     "name": "stderr",
     "output_type": "stream",
     "text": [
      "Batch: 100%|███████████████████████████████████████████████████████████████████████| 240/240 [00:00<00:00, 1019.76it/s]\n"
     ]
    },
    {
     "name": "stdout",
     "output_type": "stream",
     "text": [
      "Epoch: 104     Loss: 0.13473     Training Acc: 0.95827     Validation Acc: 0.95758\n"
     ]
    },
    {
     "name": "stderr",
     "output_type": "stream",
     "text": [
      "Batch: 100%|████████████████████████████████████████████████████████████████████████| 240/240 [00:00<00:00, 993.87it/s]\n"
     ]
    },
    {
     "name": "stdout",
     "output_type": "stream",
     "text": [
      "Epoch: 105     Loss: 0.13447     Training Acc: 0.9586     Validation Acc: 0.95767\n"
     ]
    },
    {
     "name": "stderr",
     "output_type": "stream",
     "text": [
      "Batch: 100%|████████████████████████████████████████████████████████████████████████| 240/240 [00:00<00:00, 921.80it/s]\n"
     ]
    },
    {
     "name": "stdout",
     "output_type": "stream",
     "text": [
      "Epoch: 106     Loss: 0.13421     Training Acc: 0.95852     Validation Acc: 0.95775\n"
     ]
    },
    {
     "name": "stderr",
     "output_type": "stream",
     "text": [
      "Batch: 100%|███████████████████████████████████████████████████████████████████████| 240/240 [00:00<00:00, 1065.24it/s]\n"
     ]
    },
    {
     "name": "stdout",
     "output_type": "stream",
     "text": [
      "Epoch: 107     Loss: 0.13395     Training Acc: 0.95844     Validation Acc: 0.95783\n"
     ]
    },
    {
     "name": "stderr",
     "output_type": "stream",
     "text": [
      "Batch: 100%|███████████████████████████████████████████████████████████████████████| 240/240 [00:00<00:00, 1048.84it/s]\n"
     ]
    },
    {
     "name": "stdout",
     "output_type": "stream",
     "text": [
      "Epoch: 108     Loss: 0.13371     Training Acc: 0.95844     Validation Acc: 0.95791\n"
     ]
    },
    {
     "name": "stderr",
     "output_type": "stream",
     "text": [
      "Batch: 100%|████████████████████████████████████████████████████████████████████████| 240/240 [00:00<00:00, 976.38it/s]\n"
     ]
    },
    {
     "name": "stdout",
     "output_type": "stream",
     "text": [
      "Epoch: 109     Loss: 0.13346     Training Acc: 0.95827     Validation Acc: 0.95798\n"
     ]
    },
    {
     "name": "stderr",
     "output_type": "stream",
     "text": [
      "Batch: 100%|███████████████████████████████████████████████████████████████████████| 240/240 [00:00<00:00, 1057.47it/s]\n"
     ]
    },
    {
     "name": "stdout",
     "output_type": "stream",
     "text": [
      "Epoch: 110     Loss: 0.13321     Training Acc: 0.95835     Validation Acc: 0.95806\n"
     ]
    },
    {
     "name": "stderr",
     "output_type": "stream",
     "text": [
      "Batch: 100%|████████████████████████████████████████████████████████████████████████| 240/240 [00:00<00:00, 939.88it/s]\n"
     ]
    },
    {
     "name": "stdout",
     "output_type": "stream",
     "text": [
      "Epoch: 111     Loss: 0.13298     Training Acc: 0.95844     Validation Acc: 0.95813\n"
     ]
    },
    {
     "name": "stderr",
     "output_type": "stream",
     "text": [
      "Batch: 100%|███████████████████████████████████████████████████████████████████████| 240/240 [00:00<00:00, 1043.91it/s]\n"
     ]
    },
    {
     "name": "stdout",
     "output_type": "stream",
     "text": [
      "Epoch: 112     Loss: 0.13274     Training Acc: 0.9586     Validation Acc: 0.9582\n"
     ]
    },
    {
     "name": "stderr",
     "output_type": "stream",
     "text": [
      "Batch: 100%|███████████████████████████████████████████████████████████████████████| 240/240 [00:00<00:00, 1140.88it/s]\n"
     ]
    },
    {
     "name": "stdout",
     "output_type": "stream",
     "text": [
      "Epoch: 113     Loss: 0.1325     Training Acc: 0.95877     Validation Acc: 0.95827\n"
     ]
    },
    {
     "name": "stderr",
     "output_type": "stream",
     "text": [
      "Batch: 100%|████████████████████████████████████████████████████████████████████████| 240/240 [00:00<00:00, 946.59it/s]\n"
     ]
    },
    {
     "name": "stdout",
     "output_type": "stream",
     "text": [
      "Epoch: 114     Loss: 0.13228     Training Acc: 0.95869     Validation Acc: 0.95834\n"
     ]
    },
    {
     "name": "stderr",
     "output_type": "stream",
     "text": [
      "Batch: 100%|███████████████████████████████████████████████████████████████████████| 240/240 [00:00<00:00, 1047.17it/s]\n"
     ]
    },
    {
     "name": "stdout",
     "output_type": "stream",
     "text": [
      "Epoch: 115     Loss: 0.13205     Training Acc: 0.95869     Validation Acc: 0.95841\n"
     ]
    },
    {
     "name": "stderr",
     "output_type": "stream",
     "text": [
      "Batch: 100%|███████████████████████████████████████████████████████████████████████| 240/240 [00:00<00:00, 1058.17it/s]\n"
     ]
    },
    {
     "name": "stdout",
     "output_type": "stream",
     "text": [
      "Epoch: 116     Loss: 0.13183     Training Acc: 0.95885     Validation Acc: 0.95848\n"
     ]
    },
    {
     "name": "stderr",
     "output_type": "stream",
     "text": [
      "Batch: 100%|███████████████████████████████████████████████████████████████████████| 240/240 [00:00<00:00, 1056.58it/s]\n"
     ]
    },
    {
     "name": "stdout",
     "output_type": "stream",
     "text": [
      "Epoch: 117     Loss: 0.13161     Training Acc: 0.95877     Validation Acc: 0.95854\n"
     ]
    },
    {
     "name": "stderr",
     "output_type": "stream",
     "text": [
      "Batch: 100%|████████████████████████████████████████████████████████████████████████| 240/240 [00:00<00:00, 926.83it/s]\n"
     ]
    },
    {
     "name": "stdout",
     "output_type": "stream",
     "text": [
      "Epoch: 118     Loss: 0.13139     Training Acc: 0.95852     Validation Acc: 0.95861\n"
     ]
    },
    {
     "name": "stderr",
     "output_type": "stream",
     "text": [
      "Batch: 100%|████████████████████████████████████████████████████████████████████████| 240/240 [00:00<00:00, 979.86it/s]\n"
     ]
    },
    {
     "name": "stdout",
     "output_type": "stream",
     "text": [
      "Epoch: 119     Loss: 0.13117     Training Acc: 0.95885     Validation Acc: 0.95867\n"
     ]
    },
    {
     "name": "stderr",
     "output_type": "stream",
     "text": [
      "Batch: 100%|███████████████████████████████████████████████████████████████████████| 240/240 [00:00<00:00, 1066.77it/s]\n"
     ]
    },
    {
     "name": "stdout",
     "output_type": "stream",
     "text": [
      "Epoch: 120     Loss: 0.13096     Training Acc: 0.95852     Validation Acc: 0.95873\n"
     ]
    },
    {
     "name": "stderr",
     "output_type": "stream",
     "text": [
      "Batch: 100%|███████████████████████████████████████████████████████████████████████| 240/240 [00:00<00:00, 1145.77it/s]\n"
     ]
    },
    {
     "name": "stdout",
     "output_type": "stream",
     "text": [
      "Epoch: 121     Loss: 0.13075     Training Acc: 0.95877     Validation Acc: 0.95879\n"
     ]
    },
    {
     "name": "stderr",
     "output_type": "stream",
     "text": [
      "Batch: 100%|███████████████████████████████████████████████████████████████████████| 240/240 [00:00<00:00, 1002.97it/s]\n"
     ]
    },
    {
     "name": "stdout",
     "output_type": "stream",
     "text": [
      "Epoch: 122     Loss: 0.13055     Training Acc: 0.95885     Validation Acc: 0.95885\n"
     ]
    },
    {
     "name": "stderr",
     "output_type": "stream",
     "text": [
      "Batch: 100%|████████████████████████████████████████████████████████████████████████| 240/240 [00:00<00:00, 969.43it/s]\n"
     ]
    },
    {
     "name": "stdout",
     "output_type": "stream",
     "text": [
      "Epoch: 123     Loss: 0.13034     Training Acc: 0.95894     Validation Acc: 0.95891\n"
     ]
    },
    {
     "name": "stderr",
     "output_type": "stream",
     "text": [
      "Batch: 100%|███████████████████████████████████████████████████████████████████████| 240/240 [00:00<00:00, 1043.44it/s]\n"
     ]
    },
    {
     "name": "stdout",
     "output_type": "stream",
     "text": [
      "Epoch: 124     Loss: 0.13014     Training Acc: 0.95877     Validation Acc: 0.95897\n"
     ]
    },
    {
     "name": "stderr",
     "output_type": "stream",
     "text": [
      "Batch: 100%|███████████████████████████████████████████████████████████████████████| 240/240 [00:00<00:00, 1051.78it/s]\n"
     ]
    },
    {
     "name": "stdout",
     "output_type": "stream",
     "text": [
      "Epoch: 125     Loss: 0.12994     Training Acc: 0.95885     Validation Acc: 0.95903\n"
     ]
    },
    {
     "name": "stderr",
     "output_type": "stream",
     "text": [
      "Batch: 100%|███████████████████████████████████████████████████████████████████████| 240/240 [00:00<00:00, 1083.99it/s]\n"
     ]
    },
    {
     "name": "stdout",
     "output_type": "stream",
     "text": [
      "Epoch: 126     Loss: 0.12974     Training Acc: 0.95902     Validation Acc: 0.95909\n"
     ]
    },
    {
     "name": "stderr",
     "output_type": "stream",
     "text": [
      "Batch: 100%|████████████████████████████████████████████████████████████████████████| 240/240 [00:00<00:00, 997.46it/s]\n"
     ]
    },
    {
     "name": "stdout",
     "output_type": "stream",
     "text": [
      "Epoch: 127     Loss: 0.12955     Training Acc: 0.95911     Validation Acc: 0.95914\n"
     ]
    },
    {
     "name": "stderr",
     "output_type": "stream",
     "text": [
      "Batch: 100%|███████████████████████████████████████████████████████████████████████| 240/240 [00:00<00:00, 1085.59it/s]\n"
     ]
    },
    {
     "name": "stdout",
     "output_type": "stream",
     "text": [
      "Epoch: 128     Loss: 0.12936     Training Acc: 0.95911     Validation Acc: 0.9592\n"
     ]
    },
    {
     "name": "stderr",
     "output_type": "stream",
     "text": [
      "Batch: 100%|████████████████████████████████████████████████████████████████████████| 240/240 [00:00<00:00, 993.75it/s]\n"
     ]
    },
    {
     "name": "stdout",
     "output_type": "stream",
     "text": [
      "Epoch: 129     Loss: 0.12917     Training Acc: 0.95936     Validation Acc: 0.95925\n"
     ]
    },
    {
     "name": "stderr",
     "output_type": "stream",
     "text": [
      "Batch: 100%|███████████████████████████████████████████████████████████████████████| 240/240 [00:00<00:00, 1003.96it/s]\n"
     ]
    },
    {
     "name": "stdout",
     "output_type": "stream",
     "text": [
      "Epoch: 130     Loss: 0.12898     Training Acc: 0.95919     Validation Acc: 0.9593\n"
     ]
    },
    {
     "name": "stderr",
     "output_type": "stream",
     "text": [
      "Batch: 100%|████████████████████████████████████████████████████████████████████████| 240/240 [00:00<00:00, 976.61it/s]\n"
     ]
    },
    {
     "name": "stdout",
     "output_type": "stream",
     "text": [
      "Epoch: 131     Loss: 0.1288     Training Acc: 0.95952     Validation Acc: 0.95936\n"
     ]
    },
    {
     "name": "stderr",
     "output_type": "stream",
     "text": [
      "Batch: 100%|███████████████████████████████████████████████████████████████████████| 240/240 [00:00<00:00, 1122.26it/s]\n"
     ]
    },
    {
     "name": "stdout",
     "output_type": "stream",
     "text": [
      "Epoch: 132     Loss: 0.1286     Training Acc: 0.95927     Validation Acc: 0.95941\n"
     ]
    },
    {
     "name": "stderr",
     "output_type": "stream",
     "text": [
      "Batch: 100%|███████████████████████████████████████████████████████████████████████| 240/240 [00:00<00:00, 1124.30it/s]\n"
     ]
    },
    {
     "name": "stdout",
     "output_type": "stream",
     "text": [
      "Epoch: 133     Loss: 0.12844     Training Acc: 0.95977     Validation Acc: 0.95946\n"
     ]
    },
    {
     "name": "stderr",
     "output_type": "stream",
     "text": [
      "Batch: 100%|███████████████████████████████████████████████████████████████████████| 240/240 [00:00<00:00, 1163.73it/s]\n"
     ]
    },
    {
     "name": "stdout",
     "output_type": "stream",
     "text": [
      "Epoch: 134     Loss: 0.12826     Training Acc: 0.95977     Validation Acc: 0.95951\n"
     ]
    },
    {
     "name": "stderr",
     "output_type": "stream",
     "text": [
      "Batch: 100%|███████████████████████████████████████████████████████████████████████| 240/240 [00:00<00:00, 1108.03it/s]\n"
     ]
    },
    {
     "name": "stdout",
     "output_type": "stream",
     "text": [
      "Epoch: 135     Loss: 0.12808     Training Acc: 0.95977     Validation Acc: 0.95956\n"
     ]
    },
    {
     "name": "stderr",
     "output_type": "stream",
     "text": [
      "Batch: 100%|████████████████████████████████████████████████████████████████████████| 240/240 [00:00<00:00, 994.29it/s]\n"
     ]
    },
    {
     "name": "stdout",
     "output_type": "stream",
     "text": [
      "Epoch: 136     Loss: 0.12791     Training Acc: 0.95986     Validation Acc: 0.95961\n"
     ]
    },
    {
     "name": "stderr",
     "output_type": "stream",
     "text": [
      "Batch: 100%|████████████████████████████████████████████████████████████████████████| 240/240 [00:00<00:00, 946.09it/s]\n"
     ]
    },
    {
     "name": "stdout",
     "output_type": "stream",
     "text": [
      "Epoch: 137     Loss: 0.12773     Training Acc: 0.95994     Validation Acc: 0.95966\n"
     ]
    },
    {
     "name": "stderr",
     "output_type": "stream",
     "text": [
      "Batch: 100%|████████████████████████████████████████████████████████████████████████| 240/240 [00:00<00:00, 881.36it/s]\n"
     ]
    },
    {
     "name": "stdout",
     "output_type": "stream",
     "text": [
      "Epoch: 138     Loss: 0.12756     Training Acc: 0.95986     Validation Acc: 0.95971\n"
     ]
    },
    {
     "name": "stderr",
     "output_type": "stream",
     "text": [
      "Batch: 100%|███████████████████████████████████████████████████████████████████████| 240/240 [00:00<00:00, 1099.90it/s]\n"
     ]
    },
    {
     "name": "stdout",
     "output_type": "stream",
     "text": [
      "Epoch: 139     Loss: 0.1274     Training Acc: 0.95986     Validation Acc: 0.95975\n"
     ]
    },
    {
     "name": "stderr",
     "output_type": "stream",
     "text": [
      "Batch: 100%|████████████████████████████████████████████████████████████████████████| 240/240 [00:00<00:00, 925.18it/s]\n"
     ]
    },
    {
     "name": "stdout",
     "output_type": "stream",
     "text": [
      "Epoch: 140     Loss: 0.12723     Training Acc: 0.95994     Validation Acc: 0.9598\n"
     ]
    },
    {
     "name": "stderr",
     "output_type": "stream",
     "text": [
      "Batch: 100%|████████████████████████████████████████████████████████████████████████| 240/240 [00:00<00:00, 857.33it/s]\n"
     ]
    },
    {
     "name": "stdout",
     "output_type": "stream",
     "text": [
      "Epoch: 141     Loss: 0.12706     Training Acc: 0.95994     Validation Acc: 0.95984\n"
     ]
    },
    {
     "name": "stderr",
     "output_type": "stream",
     "text": [
      "Batch: 100%|████████████████████████████████████████████████████████████████████████| 240/240 [00:00<00:00, 982.14it/s]\n"
     ]
    },
    {
     "name": "stdout",
     "output_type": "stream",
     "text": [
      "Epoch: 142     Loss: 0.1269     Training Acc: 0.95994     Validation Acc: 0.95988\n"
     ]
    },
    {
     "name": "stderr",
     "output_type": "stream",
     "text": [
      "Batch: 100%|███████████████████████████████████████████████████████████████████████| 240/240 [00:00<00:00, 1029.41it/s]\n"
     ]
    },
    {
     "name": "stdout",
     "output_type": "stream",
     "text": [
      "Epoch: 143     Loss: 0.12674     Training Acc: 0.96002     Validation Acc: 0.95992\n"
     ]
    },
    {
     "name": "stderr",
     "output_type": "stream",
     "text": [
      "Batch: 100%|████████████████████████████████████████████████████████████████████████| 240/240 [00:00<00:00, 940.95it/s]\n"
     ]
    },
    {
     "name": "stdout",
     "output_type": "stream",
     "text": [
      "Epoch: 144     Loss: 0.12658     Training Acc: 0.96011     Validation Acc: 0.95996\n"
     ]
    },
    {
     "name": "stderr",
     "output_type": "stream",
     "text": [
      "Batch: 100%|████████████████████████████████████████████████████████████████████████| 240/240 [00:00<00:00, 909.22it/s]\n"
     ]
    },
    {
     "name": "stdout",
     "output_type": "stream",
     "text": [
      "Epoch: 145     Loss: 0.12642     Training Acc: 0.96011     Validation Acc: 0.96\n"
     ]
    },
    {
     "name": "stderr",
     "output_type": "stream",
     "text": [
      "Batch: 100%|████████████████████████████████████████████████████████████████████████| 240/240 [00:00<00:00, 980.76it/s]\n"
     ]
    },
    {
     "name": "stdout",
     "output_type": "stream",
     "text": [
      "Epoch: 146     Loss: 0.12626     Training Acc: 0.96019     Validation Acc: 0.96004\n"
     ]
    },
    {
     "name": "stderr",
     "output_type": "stream",
     "text": [
      "Batch: 100%|███████████████████████████████████████████████████████████████████████| 240/240 [00:00<00:00, 1067.81it/s]\n"
     ]
    },
    {
     "name": "stdout",
     "output_type": "stream",
     "text": [
      "Epoch: 147     Loss: 0.12611     Training Acc: 0.96019     Validation Acc: 0.96008\n"
     ]
    },
    {
     "name": "stderr",
     "output_type": "stream",
     "text": [
      "Batch: 100%|████████████████████████████████████████████████████████████████████████| 240/240 [00:00<00:00, 878.44it/s]\n"
     ]
    },
    {
     "name": "stdout",
     "output_type": "stream",
     "text": [
      "Epoch: 148     Loss: 0.12596     Training Acc: 0.96011     Validation Acc: 0.96012\n"
     ]
    },
    {
     "name": "stderr",
     "output_type": "stream",
     "text": [
      "Batch: 100%|████████████████████████████████████████████████████████████████████████| 240/240 [00:00<00:00, 967.75it/s]\n"
     ]
    },
    {
     "name": "stdout",
     "output_type": "stream",
     "text": [
      "Epoch: 149     Loss: 0.12581     Training Acc: 0.95994     Validation Acc: 0.96016\n"
     ]
    },
    {
     "name": "stderr",
     "output_type": "stream",
     "text": [
      "Batch: 100%|████████████████████████████████████████████████████████████████████████| 240/240 [00:00<00:00, 950.50it/s]\n"
     ]
    },
    {
     "name": "stdout",
     "output_type": "stream",
     "text": [
      "Epoch: 150     Loss: 0.12565     Training Acc: 0.96002     Validation Acc: 0.9602\n"
     ]
    },
    {
     "name": "stderr",
     "output_type": "stream",
     "text": [
      "Batch: 100%|████████████████████████████████████████████████████████████████████████| 240/240 [00:00<00:00, 967.73it/s]\n"
     ]
    },
    {
     "name": "stdout",
     "output_type": "stream",
     "text": [
      "Epoch: 151     Loss: 0.12551     Training Acc: 0.96036     Validation Acc: 0.96024\n"
     ]
    },
    {
     "name": "stderr",
     "output_type": "stream",
     "text": [
      "Batch: 100%|████████████████████████████████████████████████████████████████████████| 240/240 [00:00<00:00, 872.72it/s]\n"
     ]
    },
    {
     "name": "stdout",
     "output_type": "stream",
     "text": [
      "Epoch: 152     Loss: 0.12536     Training Acc: 0.96027     Validation Acc: 0.96029\n"
     ]
    },
    {
     "name": "stderr",
     "output_type": "stream",
     "text": [
      "Batch: 100%|████████████████████████████████████████████████████████████████████████| 240/240 [00:00<00:00, 975.61it/s]\n"
     ]
    },
    {
     "name": "stdout",
     "output_type": "stream",
     "text": [
      "Epoch: 153     Loss: 0.12522     Training Acc: 0.96052     Validation Acc: 0.96033\n"
     ]
    },
    {
     "name": "stderr",
     "output_type": "stream",
     "text": [
      "Batch: 100%|████████████████████████████████████████████████████████████████████████| 240/240 [00:00<00:00, 828.82it/s]\n"
     ]
    },
    {
     "name": "stdout",
     "output_type": "stream",
     "text": [
      "Epoch: 154     Loss: 0.12507     Training Acc: 0.96044     Validation Acc: 0.96037\n"
     ]
    },
    {
     "name": "stderr",
     "output_type": "stream",
     "text": [
      "Batch: 100%|████████████████████████████████████████████████████████████████████████| 240/240 [00:00<00:00, 874.87it/s]\n"
     ]
    },
    {
     "name": "stdout",
     "output_type": "stream",
     "text": [
      "Epoch: 155     Loss: 0.12493     Training Acc: 0.96052     Validation Acc: 0.96041\n"
     ]
    },
    {
     "name": "stderr",
     "output_type": "stream",
     "text": [
      "Batch: 100%|████████████████████████████████████████████████████████████████████████| 240/240 [00:00<00:00, 869.82it/s]\n"
     ]
    },
    {
     "name": "stdout",
     "output_type": "stream",
     "text": [
      "Epoch: 156     Loss: 0.12479     Training Acc: 0.96036     Validation Acc: 0.96045\n"
     ]
    },
    {
     "name": "stderr",
     "output_type": "stream",
     "text": [
      "Batch: 100%|████████████████████████████████████████████████████████████████████████| 240/240 [00:00<00:00, 975.57it/s]\n"
     ]
    },
    {
     "name": "stdout",
     "output_type": "stream",
     "text": [
      "Epoch: 157     Loss: 0.12465     Training Acc: 0.96069     Validation Acc: 0.96049\n"
     ]
    },
    {
     "name": "stderr",
     "output_type": "stream",
     "text": [
      "Batch: 100%|████████████████████████████████████████████████████████████████████████| 240/240 [00:00<00:00, 994.08it/s]\n"
     ]
    },
    {
     "name": "stdout",
     "output_type": "stream",
     "text": [
      "Epoch: 158     Loss: 0.12451     Training Acc: 0.96086     Validation Acc: 0.96053\n"
     ]
    },
    {
     "name": "stderr",
     "output_type": "stream",
     "text": [
      "Batch: 100%|████████████████████████████████████████████████████████████████████████| 240/240 [00:00<00:00, 998.34it/s]\n"
     ]
    },
    {
     "name": "stdout",
     "output_type": "stream",
     "text": [
      "Epoch: 159     Loss: 0.12438     Training Acc: 0.96061     Validation Acc: 0.96058\n"
     ]
    },
    {
     "name": "stderr",
     "output_type": "stream",
     "text": [
      "Batch: 100%|████████████████████████████████████████████████████████████████████████| 240/240 [00:00<00:00, 966.37it/s]\n"
     ]
    },
    {
     "name": "stdout",
     "output_type": "stream",
     "text": [
      "Epoch: 160     Loss: 0.12424     Training Acc: 0.96069     Validation Acc: 0.96062\n"
     ]
    },
    {
     "name": "stderr",
     "output_type": "stream",
     "text": [
      "Batch: 100%|████████████████████████████████████████████████████████████████████████| 240/240 [00:00<00:00, 966.70it/s]\n"
     ]
    },
    {
     "name": "stdout",
     "output_type": "stream",
     "text": [
      "Epoch: 161     Loss: 0.1241     Training Acc: 0.96094     Validation Acc: 0.96066\n"
     ]
    },
    {
     "name": "stderr",
     "output_type": "stream",
     "text": [
      "Batch: 100%|████████████████████████████████████████████████████████████████████████| 240/240 [00:00<00:00, 827.83it/s]\n"
     ]
    },
    {
     "name": "stdout",
     "output_type": "stream",
     "text": [
      "Epoch: 162     Loss: 0.12397     Training Acc: 0.96069     Validation Acc: 0.9607\n"
     ]
    },
    {
     "name": "stderr",
     "output_type": "stream",
     "text": [
      "Batch: 100%|████████████████████████████████████████████████████████████████████████| 240/240 [00:00<00:00, 797.34it/s]\n"
     ]
    },
    {
     "name": "stdout",
     "output_type": "stream",
     "text": [
      "Epoch: 163     Loss: 0.12384     Training Acc: 0.96086     Validation Acc: 0.96075\n"
     ]
    },
    {
     "name": "stderr",
     "output_type": "stream",
     "text": [
      "Batch: 100%|████████████████████████████████████████████████████████████████████████| 240/240 [00:00<00:00, 888.88it/s]\n"
     ]
    },
    {
     "name": "stdout",
     "output_type": "stream",
     "text": [
      "Epoch: 164     Loss: 0.12371     Training Acc: 0.96077     Validation Acc: 0.96079\n"
     ]
    },
    {
     "name": "stderr",
     "output_type": "stream",
     "text": [
      "Batch: 100%|████████████████████████████████████████████████████████████████████████| 240/240 [00:00<00:00, 793.34it/s]\n"
     ]
    },
    {
     "name": "stdout",
     "output_type": "stream",
     "text": [
      "Epoch: 165     Loss: 0.12358     Training Acc: 0.96086     Validation Acc: 0.96083\n"
     ]
    },
    {
     "name": "stderr",
     "output_type": "stream",
     "text": [
      "Batch: 100%|████████████████████████████████████████████████████████████████████████| 240/240 [00:00<00:00, 993.16it/s]\n"
     ]
    },
    {
     "name": "stdout",
     "output_type": "stream",
     "text": [
      "Epoch: 166     Loss: 0.12345     Training Acc: 0.96094     Validation Acc: 0.96087\n"
     ]
    },
    {
     "name": "stderr",
     "output_type": "stream",
     "text": [
      "Batch: 100%|████████████████████████████████████████████████████████████████████████| 240/240 [00:00<00:00, 936.12it/s]\n"
     ]
    },
    {
     "name": "stdout",
     "output_type": "stream",
     "text": [
      "Epoch: 167     Loss: 0.12332     Training Acc: 0.96094     Validation Acc: 0.96091\n"
     ]
    },
    {
     "name": "stderr",
     "output_type": "stream",
     "text": [
      "Batch: 100%|████████████████████████████████████████████████████████████████████████| 240/240 [00:00<00:00, 968.33it/s]\n"
     ]
    },
    {
     "name": "stdout",
     "output_type": "stream",
     "text": [
      "Epoch: 168     Loss: 0.1232     Training Acc: 0.96102     Validation Acc: 0.96095\n"
     ]
    },
    {
     "name": "stderr",
     "output_type": "stream",
     "text": [
      "Batch: 100%|████████████████████████████████████████████████████████████████████████| 240/240 [00:00<00:00, 869.30it/s]\n"
     ]
    },
    {
     "name": "stdout",
     "output_type": "stream",
     "text": [
      "Epoch: 169     Loss: 0.12308     Training Acc: 0.96111     Validation Acc: 0.96099\n"
     ]
    },
    {
     "name": "stderr",
     "output_type": "stream",
     "text": [
      "Batch: 100%|███████████████████████████████████████████████████████████████████████| 240/240 [00:00<00:00, 1048.13it/s]\n"
     ]
    },
    {
     "name": "stdout",
     "output_type": "stream",
     "text": [
      "Epoch: 170     Loss: 0.12295     Training Acc: 0.96111     Validation Acc: 0.96103\n"
     ]
    },
    {
     "name": "stderr",
     "output_type": "stream",
     "text": [
      "Batch: 100%|████████████████████████████████████████████████████████████████████████| 240/240 [00:00<00:00, 893.73it/s]\n"
     ]
    },
    {
     "name": "stdout",
     "output_type": "stream",
     "text": [
      "Epoch: 171     Loss: 0.12283     Training Acc: 0.96111     Validation Acc: 0.96107\n"
     ]
    },
    {
     "name": "stderr",
     "output_type": "stream",
     "text": [
      "Batch: 100%|████████████████████████████████████████████████████████████████████████| 240/240 [00:00<00:00, 970.86it/s]\n"
     ]
    },
    {
     "name": "stdout",
     "output_type": "stream",
     "text": [
      "Epoch: 172     Loss: 0.12271     Training Acc: 0.96111     Validation Acc: 0.96111\n"
     ]
    },
    {
     "name": "stderr",
     "output_type": "stream",
     "text": [
      "Batch: 100%|████████████████████████████████████████████████████████████████████████| 240/240 [00:00<00:00, 978.44it/s]\n"
     ]
    },
    {
     "name": "stdout",
     "output_type": "stream",
     "text": [
      "Epoch: 173     Loss: 0.12259     Training Acc: 0.96111     Validation Acc: 0.96115\n"
     ]
    },
    {
     "name": "stderr",
     "output_type": "stream",
     "text": [
      "Batch: 100%|███████████████████████████████████████████████████████████████████████| 240/240 [00:00<00:00, 1045.09it/s]\n"
     ]
    },
    {
     "name": "stdout",
     "output_type": "stream",
     "text": [
      "Epoch: 174     Loss: 0.12247     Training Acc: 0.96128     Validation Acc: 0.96119\n"
     ]
    },
    {
     "name": "stderr",
     "output_type": "stream",
     "text": [
      "Batch: 100%|███████████████████████████████████████████████████████████████████████| 240/240 [00:00<00:00, 1015.32it/s]\n"
     ]
    },
    {
     "name": "stdout",
     "output_type": "stream",
     "text": [
      "Epoch: 175     Loss: 0.12235     Training Acc: 0.96144     Validation Acc: 0.96122\n"
     ]
    },
    {
     "name": "stderr",
     "output_type": "stream",
     "text": [
      "Batch: 100%|████████████████████████████████████████████████████████████████████████| 240/240 [00:00<00:00, 946.11it/s]\n"
     ]
    },
    {
     "name": "stdout",
     "output_type": "stream",
     "text": [
      "Epoch: 176     Loss: 0.12223     Training Acc: 0.96128     Validation Acc: 0.96126\n"
     ]
    },
    {
     "name": "stderr",
     "output_type": "stream",
     "text": [
      "Batch: 100%|███████████████████████████████████████████████████████████████████████| 240/240 [00:00<00:00, 1076.88it/s]\n"
     ]
    },
    {
     "name": "stdout",
     "output_type": "stream",
     "text": [
      "Epoch: 177     Loss: 0.12212     Training Acc: 0.96128     Validation Acc: 0.96129\n"
     ]
    },
    {
     "name": "stderr",
     "output_type": "stream",
     "text": [
      "Batch: 100%|███████████████████████████████████████████████████████████████████████| 240/240 [00:00<00:00, 1028.94it/s]\n"
     ]
    },
    {
     "name": "stdout",
     "output_type": "stream",
     "text": [
      "Epoch: 178     Loss: 0.122     Training Acc: 0.96136     Validation Acc: 0.96132\n"
     ]
    },
    {
     "name": "stderr",
     "output_type": "stream",
     "text": [
      "Batch: 100%|████████████████████████████████████████████████████████████████████████| 240/240 [00:00<00:00, 971.06it/s]\n"
     ]
    },
    {
     "name": "stdout",
     "output_type": "stream",
     "text": [
      "Epoch: 179     Loss: 0.12189     Training Acc: 0.96161     Validation Acc: 0.96135\n"
     ]
    },
    {
     "name": "stderr",
     "output_type": "stream",
     "text": [
      "Batch: 100%|████████████████████████████████████████████████████████████████████████| 240/240 [00:00<00:00, 889.96it/s]\n"
     ]
    },
    {
     "name": "stdout",
     "output_type": "stream",
     "text": [
      "Epoch: 180     Loss: 0.12177     Training Acc: 0.96144     Validation Acc: 0.96139\n"
     ]
    },
    {
     "name": "stderr",
     "output_type": "stream",
     "text": [
      "Batch: 100%|███████████████████████████████████████████████████████████████████████| 240/240 [00:00<00:00, 1043.94it/s]\n"
     ]
    },
    {
     "name": "stdout",
     "output_type": "stream",
     "text": [
      "Epoch: 181     Loss: 0.12166     Training Acc: 0.96169     Validation Acc: 0.96142\n"
     ]
    },
    {
     "name": "stderr",
     "output_type": "stream",
     "text": [
      "Batch: 100%|████████████████████████████████████████████████████████████████████████| 240/240 [00:00<00:00, 969.80it/s]\n"
     ]
    },
    {
     "name": "stdout",
     "output_type": "stream",
     "text": [
      "Epoch: 182     Loss: 0.12155     Training Acc: 0.96144     Validation Acc: 0.96145\n"
     ]
    },
    {
     "name": "stderr",
     "output_type": "stream",
     "text": [
      "Batch: 100%|███████████████████████████████████████████████████████████████████████| 240/240 [00:00<00:00, 1126.50it/s]\n"
     ]
    },
    {
     "name": "stdout",
     "output_type": "stream",
     "text": [
      "Epoch: 183     Loss: 0.12144     Training Acc: 0.96153     Validation Acc: 0.96148\n"
     ]
    },
    {
     "name": "stderr",
     "output_type": "stream",
     "text": [
      "Batch: 100%|███████████████████████████████████████████████████████████████████████| 240/240 [00:00<00:00, 1040.79it/s]\n"
     ]
    },
    {
     "name": "stdout",
     "output_type": "stream",
     "text": [
      "Epoch: 184     Loss: 0.12133     Training Acc: 0.96178     Validation Acc: 0.96151\n"
     ]
    },
    {
     "name": "stderr",
     "output_type": "stream",
     "text": [
      "Batch: 100%|████████████████████████████████████████████████████████████████████████| 240/240 [00:00<00:00, 927.91it/s]\n"
     ]
    },
    {
     "name": "stdout",
     "output_type": "stream",
     "text": [
      "Epoch: 185     Loss: 0.12122     Training Acc: 0.96169     Validation Acc: 0.96153\n"
     ]
    },
    {
     "name": "stderr",
     "output_type": "stream",
     "text": [
      "Batch: 100%|████████████████████████████████████████████████████████████████████████| 240/240 [00:00<00:00, 993.69it/s]\n"
     ]
    },
    {
     "name": "stdout",
     "output_type": "stream",
     "text": [
      "Epoch: 186     Loss: 0.12112     Training Acc: 0.96186     Validation Acc: 0.96156\n"
     ]
    },
    {
     "name": "stderr",
     "output_type": "stream",
     "text": [
      "Batch: 100%|███████████████████████████████████████████████████████████████████████| 240/240 [00:00<00:00, 1054.61it/s]\n"
     ]
    },
    {
     "name": "stdout",
     "output_type": "stream",
     "text": [
      "Epoch: 187     Loss: 0.12101     Training Acc: 0.96194     Validation Acc: 0.96159\n"
     ]
    },
    {
     "name": "stderr",
     "output_type": "stream",
     "text": [
      "Batch: 100%|████████████████████████████████████████████████████████████████████████| 240/240 [00:00<00:00, 899.15it/s]\n"
     ]
    },
    {
     "name": "stdout",
     "output_type": "stream",
     "text": [
      "Epoch: 188     Loss: 0.12091     Training Acc: 0.96186     Validation Acc: 0.96162\n"
     ]
    },
    {
     "name": "stderr",
     "output_type": "stream",
     "text": [
      "Batch: 100%|████████████████████████████████████████████████████████████████████████| 240/240 [00:00<00:00, 941.20it/s]\n"
     ]
    },
    {
     "name": "stdout",
     "output_type": "stream",
     "text": [
      "Epoch: 189     Loss: 0.1208     Training Acc: 0.96211     Validation Acc: 0.96164\n"
     ]
    },
    {
     "name": "stderr",
     "output_type": "stream",
     "text": [
      "Batch: 100%|███████████████████████████████████████████████████████████████████████| 240/240 [00:00<00:00, 1068.21it/s]\n"
     ]
    },
    {
     "name": "stdout",
     "output_type": "stream",
     "text": [
      "Epoch: 190     Loss: 0.12069     Training Acc: 0.96203     Validation Acc: 0.96167\n"
     ]
    },
    {
     "name": "stderr",
     "output_type": "stream",
     "text": [
      "Batch: 100%|███████████████████████████████████████████████████████████████████████| 240/240 [00:00<00:00, 1151.84it/s]\n"
     ]
    },
    {
     "name": "stdout",
     "output_type": "stream",
     "text": [
      "Epoch: 191     Loss: 0.12059     Training Acc: 0.96211     Validation Acc: 0.9617\n"
     ]
    },
    {
     "name": "stderr",
     "output_type": "stream",
     "text": [
      "Batch: 100%|███████████████████████████████████████████████████████████████████████| 240/240 [00:00<00:00, 1154.45it/s]\n"
     ]
    },
    {
     "name": "stdout",
     "output_type": "stream",
     "text": [
      "Epoch: 192     Loss: 0.12049     Training Acc: 0.96219     Validation Acc: 0.96172\n"
     ]
    },
    {
     "name": "stderr",
     "output_type": "stream",
     "text": [
      "Batch: 100%|████████████████████████████████████████████████████████████████████████| 240/240 [00:00<00:00, 954.49it/s]\n"
     ]
    },
    {
     "name": "stdout",
     "output_type": "stream",
     "text": [
      "Epoch: 193     Loss: 0.12039     Training Acc: 0.96228     Validation Acc: 0.96175\n"
     ]
    },
    {
     "name": "stderr",
     "output_type": "stream",
     "text": [
      "Batch: 100%|███████████████████████████████████████████████████████████████████████| 240/240 [00:00<00:00, 1038.07it/s]\n"
     ]
    },
    {
     "name": "stdout",
     "output_type": "stream",
     "text": [
      "Epoch: 194     Loss: 0.12029     Training Acc: 0.96228     Validation Acc: 0.96177\n"
     ]
    },
    {
     "name": "stderr",
     "output_type": "stream",
     "text": [
      "Batch: 100%|████████████████████████████████████████████████████████████████████████| 240/240 [00:00<00:00, 992.65it/s]\n"
     ]
    },
    {
     "name": "stdout",
     "output_type": "stream",
     "text": [
      "Epoch: 195     Loss: 0.12018     Training Acc: 0.96244     Validation Acc: 0.9618\n"
     ]
    },
    {
     "name": "stderr",
     "output_type": "stream",
     "text": [
      "Batch: 100%|████████████████████████████████████████████████████████████████████████| 240/240 [00:00<00:00, 980.77it/s]\n"
     ]
    },
    {
     "name": "stdout",
     "output_type": "stream",
     "text": [
      "Epoch: 196     Loss: 0.12008     Training Acc: 0.96186     Validation Acc: 0.96182\n"
     ]
    },
    {
     "name": "stderr",
     "output_type": "stream",
     "text": [
      "Batch: 100%|███████████████████████████████████████████████████████████████████████| 240/240 [00:00<00:00, 1027.28it/s]\n"
     ]
    },
    {
     "name": "stdout",
     "output_type": "stream",
     "text": [
      "Epoch: 197     Loss: 0.11999     Training Acc: 0.96228     Validation Acc: 0.96185\n"
     ]
    },
    {
     "name": "stderr",
     "output_type": "stream",
     "text": [
      "Batch: 100%|████████████████████████████████████████████████████████████████████████| 240/240 [00:00<00:00, 946.58it/s]\n"
     ]
    },
    {
     "name": "stdout",
     "output_type": "stream",
     "text": [
      "Epoch: 198     Loss: 0.11989     Training Acc: 0.96228     Validation Acc: 0.96187\n"
     ]
    },
    {
     "name": "stderr",
     "output_type": "stream",
     "text": [
      "Batch: 100%|████████████████████████████████████████████████████████████████████████| 240/240 [00:00<00:00, 960.29it/s]\n"
     ]
    },
    {
     "name": "stdout",
     "output_type": "stream",
     "text": [
      "Epoch: 199     Loss: 0.11979     Training Acc: 0.96236     Validation Acc: 0.9619\n"
     ]
    },
    {
     "data": {
      "text/plain": [
       "0.023917621718399874"
      ]
     },
     "execution_count": 60,
     "metadata": {},
     "output_type": "execute_result"
    }
   ],
   "source": [
    "model_logistic = Model([Affine(\"logits\", 784, 1), Sigmoid(\"sigmoid\")])\n",
    "\n",
    "learner2 = Learner(loss, model_logistic, opt, config.num_epochs)\n",
    "acc2 = AccCallback(learner2, config.bs)\n",
    "learner2.set_callbacks([acc2])\n",
    "learner2.train_loop(train_dl,X_test, y_test)"
   ]
  },
  {
   "cell_type": "code",
   "execution_count": 59,
   "metadata": {
    "scrolled": false
   },
   "outputs": [
    {
     "data": {
      "image/png": "[encoded data removed]",
      "text/plain": [
       "<Figure size 1008x504 with 1 Axes>"
      ]
     },
     "metadata": {
      "needs_background": "light"
     },
     "output_type": "display_data"
    }
   ],
   "source": [
    "plt.figure(figsize=(14,7))\n",
    "plt.plot(acc.test_accuracies, 'g-', label = \"Val Accuracy - NN\")\n",
    "plt.plot(acc.accuracies, 'r-', label = \"Training Accuracy - NN\")\n",
    "plt.plot(acc2.test_accuracies, 'b-',linestyle=\"--\", label = \"Val Accuracy - Logistic Reg\")\n",
    "plt.plot(acc2.accuracies, 'c-',linestyle=\"--\", label = \"Training Accuracy - Logistic Reg\")\n",
    "plt.ylim(0.8,1) ## for a more spread out view\n",
    "plt.legend()\n",
    "plt.title(\"Comparing NN accuracies & Logistic Regression Model accuracy\");"
   ]
  },
  {
   "cell_type": "markdown",
   "metadata": {},
   "source": [
    "...And the winner is our lovely Neural Network model!\n",
    "\n",
    "Looking at this graph, clearly the Neural network performed better than our simple logistics model. "
   ]
  }
 ],
 "metadata": {
  "kernelspec": {
   "display_name": "Python 3",
   "language": "python",
   "name": "python3"
  },
  "language_info": {
   "codemirror_mode": {
    "name": "ipython",
    "version": 3
   },
   "file_extension": ".py",
   "mimetype": "text/x-python",
   "name": "python",
   "nbconvert_exporter": "python",
   "pygments_lexer": "ipython3",
   "version": "3.7.4"
  }
 },
 "nbformat": 4,
 "nbformat_minor": 4
}
